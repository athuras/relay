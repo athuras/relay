{
 "metadata": {
  "name": ""
 },
 "nbformat": 3,
 "nbformat_minor": 0,
 "worksheets": [
  {
   "cells": [
    {
     "cell_type": "markdown",
     "metadata": {},
     "source": [
      "# Crash course in igraph\n",
      "\n",
      "Here we'll walk through how to use igraph. In particular the python interface.\n",
      "\n",
      "### Dependencies\n",
      "\n",
      "* igraph [brew install igraph]\n",
      "* cairo [brew install cairo]\n",
      "* py2cairo [brew install py2cairo]\n",
      "* python-igraph [pip install igraph]"
     ]
    },
    {
     "cell_type": "code",
     "collapsed": false,
     "input": [
      "import igraph as ig"
     ],
     "language": "python",
     "metadata": {},
     "outputs": [],
     "prompt_number": 1
    },
    {
     "cell_type": "markdown",
     "metadata": {},
     "source": [
      "## My First Graph"
     ]
    },
    {
     "cell_type": "code",
     "collapsed": false,
     "input": [
      "g = ig.Graph(2)  # A graph with two nodes"
     ],
     "language": "python",
     "metadata": {},
     "outputs": [],
     "prompt_number": 2
    },
    {
     "cell_type": "code",
     "collapsed": false,
     "input": [
      "g.add_edge(0, 1)"
     ],
     "language": "python",
     "metadata": {},
     "outputs": [],
     "prompt_number": 9
    },
    {
     "cell_type": "code",
     "collapsed": false,
     "input": [
      "g.incident(1)"
     ],
     "language": "python",
     "metadata": {},
     "outputs": [
      {
       "metadata": {},
       "output_type": "pyout",
       "prompt_number": 11,
       "text": [
        "[0]"
       ]
      }
     ],
     "prompt_number": 11
    },
    {
     "cell_type": "code",
     "collapsed": false,
     "input": [
      "ig.plot(g)"
     ],
     "language": "python",
     "metadata": {},
     "outputs": [
      {
       "metadata": {},
       "output_type": "pyout",
       "prompt_number": 12,
       "text": [
        "<igraph.drawing.Plot at 0x111937c50>"
       ]
      }
     ],
     "prompt_number": 12
    },
    {
     "cell_type": "markdown",
     "metadata": {},
     "source": [
      "### Well that was fun\n",
      "\n",
      "We can also initialize graphs with the number of nodes (where the nodes are integers in range(n)). The catch is the edges must refer to these nodes to work. i.e. edge = [(x, y)] (directed)."
     ]
    },
    {
     "cell_type": "code",
     "collapsed": false,
     "input": [
      "def gen_proto_graph(n=4):\n",
      "    def counter(i=0):\n",
      "        while True:\n",
      "            yield i\n",
      "            i += 1\n",
      "    C = counter()\n",
      "    master = [next(C) for i in xrange(n)]\n",
      "    inflows = [next(C) for m in master]\n",
      "    outflows = [next(C) for m in master]\n",
      "    \n",
      "    m_links = [(outflows[i], master[i]) for i in xrange(n)]\n",
      "    i_links = [(inflows[i], master[i]) for i in xrange(n)]\n",
      "    io_links = [(inf, outf) for i, inf in enumerate(inflows)\n",
      "                            for j, outf in enumerate(outflows)\n",
      "                            if i != j]\n",
      "    return  m_links + i_links + io_links\n",
      "\n",
      "def gen_intersection(n):\n",
      "    edges = gen_proto_graph(n)\n",
      "    nodes = len(set((i[0] for i in edges)))\n",
      "    return ig.Graph(n=nodes, edges=edges, directed=True)"
     ],
     "language": "python",
     "metadata": {},
     "outputs": [],
     "prompt_number": 13
    },
    {
     "cell_type": "code",
     "collapsed": false,
     "input": [
      "g2 = gen_intersection(6)"
     ],
     "language": "python",
     "metadata": {},
     "outputs": [],
     "prompt_number": 14
    },
    {
     "cell_type": "code",
     "collapsed": false,
     "input": [
      "plt = ig.plot(g2)"
     ],
     "language": "python",
     "metadata": {},
     "outputs": [
      {
       "metadata": {},
       "output_type": "pyout",
       "prompt_number": 15,
       "text": [
        "<igraph.drawing.Plot at 0x1118ef410>"
       ]
      }
     ],
     "prompt_number": 15
    },
    {
     "cell_type": "code",
     "collapsed": false,
     "input": [
      "g2.indegree()"
     ],
     "language": "python",
     "metadata": {},
     "outputs": [
      {
       "metadata": {},
       "output_type": "pyout",
       "prompt_number": 16,
       "text": [
        "[2, 2, 2, 2, 2, 2, 0, 0, 0, 0, 0, 0, 5, 5, 5, 5, 5, 5]"
       ]
      }
     ],
     "prompt_number": 16
    },
    {
     "cell_type": "code",
     "collapsed": false,
     "input": [
      "g2.outdegree()"
     ],
     "language": "python",
     "metadata": {},
     "outputs": [
      {
       "metadata": {},
       "output_type": "pyout",
       "prompt_number": 17,
       "text": [
        "[0, 0, 0, 0, 0, 0, 6, 6, 6, 6, 6, 6, 1, 1, 1, 1, 1, 1]"
       ]
      }
     ],
     "prompt_number": 17
    },
    {
     "cell_type": "code",
     "collapsed": false,
     "input": [],
     "language": "python",
     "metadata": {},
     "outputs": []
    }
   ],
   "metadata": {}
  }
 ]
}