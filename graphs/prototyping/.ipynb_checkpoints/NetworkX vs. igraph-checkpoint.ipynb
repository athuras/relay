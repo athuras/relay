{
 "metadata": {
  "name": ""
 },
 "nbformat": 3,
 "nbformat_minor": 0,
 "worksheets": [
  {
   "cells": [
    {
     "cell_type": "markdown",
     "metadata": {},
     "source": [
      "# Investigation of Python Graph Packages\n",
      "\n",
      "Rather than rolling our own custom (and inferior) graph library, I've selected the two frontrunners in the space (particularly for Python).\n",
      "\n",
      "Here we'll go over the construction of graphs in both packages, and then perhaps look into some simple benchmarks."
     ]
    },
    {
     "cell_type": "code",
     "collapsed": false,
     "input": [
      "%pylab --no-import-all inline\n",
      "import numpy as np\n",
      "import matplotlib\n",
      "import matplotlib.pyplot as plt\n",
      "import igraph as ig\n",
      "import networkx as nx"
     ],
     "language": "python",
     "metadata": {},
     "outputs": [
      {
       "output_type": "stream",
       "stream": "stdout",
       "text": [
        "Populating the interactive namespace from numpy and matplotlib\n"
       ]
      }
     ],
     "prompt_number": 2
    },
    {
     "cell_type": "code",
     "collapsed": false,
     "input": [
      "print ig.__version__, nx.__version__"
     ],
     "language": "python",
     "metadata": {},
     "outputs": [
      {
       "output_type": "stream",
       "stream": "stdout",
       "text": [
        "0.6.5 1.8.1\n"
       ]
      }
     ],
     "prompt_number": 3
    },
    {
     "cell_type": "markdown",
     "metadata": {},
     "source": [
      "## igraph"
     ]
    },
    {
     "cell_type": "code",
     "collapsed": false,
     "input": [
      "def gen_proto_graph(n=5):\n",
      "    '''Generates a permutation graph of degree-1'''\n",
      "    return [(x, y) for x in xrange(n) for y in xrange(n)]"
     ],
     "language": "python",
     "metadata": {},
     "outputs": [],
     "prompt_number": 12
    },
    {
     "cell_type": "code",
     "collapsed": false,
     "input": [
      "g = ig.Graph(5, gen_proto_graph(5), directed=True)"
     ],
     "language": "python",
     "metadata": {},
     "outputs": [],
     "prompt_number": 18
    },
    {
     "cell_type": "code",
     "collapsed": false,
     "input": [
      "g.indegree()"
     ],
     "language": "python",
     "metadata": {},
     "outputs": [
      {
       "metadata": {},
       "output_type": "pyout",
       "prompt_number": 38,
       "text": [
        "[5, 5, 5, 5, 5]"
       ]
      }
     ],
     "prompt_number": 38
    },
    {
     "cell_type": "markdown",
     "metadata": {},
     "source": [
      "Well that was fun. Although what I'm sure is a fantastic library it depends on Cairo for plotting (which admittedly isn't a huge feature, but is nice for debugging, and rendering). Unfortunately py2cairo doesn't configure on my machine, and I'm not willing to take the time to sort out why it says cairo 1.12 is not recent enough (it looks for 1.10)."
     ]
    },
    {
     "cell_type": "markdown",
     "metadata": {},
     "source": [
      "## NetworkX"
     ]
    },
    {
     "cell_type": "code",
     "collapsed": false,
     "input": [
      "g2 = nx.DiGraph(data=gen_proto_graph())"
     ],
     "language": "python",
     "metadata": {},
     "outputs": [],
     "prompt_number": 33
    },
    {
     "cell_type": "markdown",
     "metadata": {},
     "source": [
      "Nodes in NetworkX can be any hashable object. Furthermore, edges can be evaluated using adjacency iterators."
     ]
    },
    {
     "cell_type": "code",
     "collapsed": false,
     "input": [
      "g2.in_degree()"
     ],
     "language": "python",
     "metadata": {},
     "outputs": [
      {
       "metadata": {},
       "output_type": "pyout",
       "prompt_number": 36,
       "text": [
        "{0: 5, 1: 5, 2: 5, 3: 5, 4: 5}"
       ]
      }
     ],
     "prompt_number": 36
    },
    {
     "cell_type": "code",
     "collapsed": false,
     "input": [
      "g3 = nx.subgraph(g2, [1, 3, 4])  # Cool!"
     ],
     "language": "python",
     "metadata": {},
     "outputs": [],
     "prompt_number": 39
    },
    {
     "cell_type": "code",
     "collapsed": false,
     "input": [
      "g3.in_degree()"
     ],
     "language": "python",
     "metadata": {},
     "outputs": [
      {
       "metadata": {},
       "output_type": "pyout",
       "prompt_number": 41,
       "text": [
        "{1: 3, 3: 3, 4: 3}"
       ]
      }
     ],
     "prompt_number": 41
    },
    {
     "cell_type": "markdown",
     "metadata": {},
     "source": [
      "While Matplotlib has some issues (similar to Cairo, but admittedly better managed, more popular etc) NetworkX is capable of drawing with it. *sigh of relief*"
     ]
    },
    {
     "cell_type": "code",
     "collapsed": false,
     "input": [
      "nx.draw(g2, pos=nx.circular_layout(g2))"
     ],
     "language": "python",
     "metadata": {},
     "outputs": [
      {
       "metadata": {},
       "output_type": "display_data",
       "png": "[encoded data removed]",
       "text": [
        "<matplotlib.figure.Figure at 0x1090b6290>"
       ]
      }
     ],
     "prompt_number": 43
    },
    {
     "cell_type": "markdown",
     "metadata": {},
     "source": [
      "## Modelling an intersection"
     ]
    },
    {
     "cell_type": "code",
     "collapsed": false,
     "input": [
      "# Four Directions, two-ways each, this is hacky, its my first day... shutup.\n",
      "master = ('N', 'E', 'S', 'W')\n",
      "inflows = [m + '_i' for m in master]\n",
      "outflows = [m + '_o' for m in master]\n",
      "m_links = [(o, o[0]) for o in outflows]\n",
      "i_links = [(i, i[0]) for i in inflows]\n",
      "io_links = [(i, o) for i in inflows for o in outflows]\n",
      "io_links.extend([(o, i) for i, o in io_links])\n",
      "edges = m_links + i_links + io_links"
     ],
     "language": "python",
     "metadata": {},
     "outputs": [],
     "prompt_number": 44
    },
    {
     "cell_type": "code",
     "collapsed": false,
     "input": [
      "g3 = nx.DiGraph(edges)"
     ],
     "language": "python",
     "metadata": {},
     "outputs": [],
     "prompt_number": 45
    },
    {
     "cell_type": "code",
     "collapsed": false,
     "input": [
      "nx.draw(g3, pos=nx.spectral_layout(g3))"
     ],
     "language": "python",
     "metadata": {},
     "outputs": [
      {
       "metadata": {},
       "output_type": "display_data",
       "png": "[encoded data removed]",
       "text": [
        "<matplotlib.figure.Figure at 0x109090f90>"
       ]
      }
     ],
     "prompt_number": 72
    },
    {
     "cell_type": "code",
     "collapsed": false,
     "input": [],
     "language": "python",
     "metadata": {},
     "outputs": [
      {
       "metadata": {},
       "output_type": "pyout",
       "prompt_number": 48,
       "text": [
        "<module 'networkx.drawing.layout' from '/usr/local/lib/python2.7/site-packages/networkx/drawing/layout.pyc'>"
       ]
      }
     ],
     "prompt_number": 48
    },
    {
     "cell_type": "code",
     "collapsed": false,
     "input": [],
     "language": "python",
     "metadata": {},
     "outputs": []
    }
   ],
   "metadata": {}
  }
 ]
}