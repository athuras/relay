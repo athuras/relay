{
 "metadata": {
  "name": ""
 },
 "nbformat": 3,
 "nbformat_minor": 0,
 "worksheets": [
  {
   "cells": [
    {
     "cell_type": "markdown",
     "metadata": {},
     "source": [
      "# Legal State Generation\n",
      "Given a number of sources into an intersection, n, generate all legal (non-intersecting) edge combinations.\n",
      "\n",
      "## Inputs:\n",
      "- num_sources: The number of sources in the intersection. A source is considered one in and one out node. For example, a four-way intersection has four sources.\n",
      "- ref_source: The number of the reference source. Recursive use of this function will require that the function is performed with respect to the not-reference (zero) source.\n",
      "- state_list: a list of currently valid states. For recursive use of the function.\n",
      "- state: The current state which is being developed. For recursive use of the function.\n"
     ]
    },
    {
     "cell_type": "code",
     "collapsed": false,
     "input": [
      "from itertools import combinations"
     ],
     "language": "python",
     "metadata": {},
     "outputs": [],
     "prompt_number": 7
    },
    {
     "cell_type": "code",
     "collapsed": false,
     "input": [
      "def gen_states(sl):\n",
      "    # Catch\n",
      "    if len(sl) < 2:\n",
      "        print 'You must have at least 2 sources for an intersection.'\n",
      "        return None\n",
      "    \n",
      "    # Vars\n",
      "    state_list = []\n",
      "    \n",
      "    for i in range(len(sl)): # We run this pattern for each node as the origin node.\n",
      "        source_list = []\n",
      "        \n",
      "        # Each time we run this for loop, source_list is rotated\n",
      "        for j in range(len(sl)):\n",
      "            source_list.append((i+j)%len(sl))\n",
      "        \n",
      "        # Assume 2 nodes for each source, make some references\n",
      "        origin_source = source_list[0]\n",
      "        # source_list = source_list[1:]\n",
      "        \n",
      "        # Generage list of all possible source combinations with reference to the reference source (0)\n",
      "        source_combos = [combinations(source_list,i) for i in xrange(1, len(source_list)+1)]\n",
      "        \n",
      "        print 'combo list:'\n",
      "        for combo_list in source_combos:\n",
      "            for combo in combo_list:\n",
      "                print combo\n",
      "                \n",
      "        source_combos = [combinations(source_list,i) for i in xrange(1, len(source_list)+1)]\n",
      "        \n",
      "        # Loop through each possible combination of connections to reference node\n",
      "        for combo_length in source_combos:\n",
      "            for combo in combo_length:\n",
      "                \n",
      "                print 'combo:'\n",
      "                print combo\n",
      "                \n",
      "                state = []\n",
      "    \n",
      "                # Add reference node connections to the current state list\n",
      "                for connection_source in combo:\n",
      "                    print [2*origin_source, 1+2*connection_source]\n",
      "                    state.append([2*origin_source, 1+2*connection_source]) # connect origin to this source\n",
      "                    print 'what is ' + str(1+2*(source_list[(source_list.index(connection_source)-1)%len(source_list)]))\n",
      "                    state.append([2*connection_source, 1+2*(source_list[(source_list.index(connection_source)-1)%len(source_list)])]) # connect this source to it's right-adjacent\n",
      "                    state.append([2*connection_source, 1+2*connection_source])# connect source to it's out\n",
      "                    \n",
      "                print 'states after initial combo connections:'\n",
      "                print state\n",
      "                    \n",
      "                # Generate a 'residuals' list which is a list of lists created by breaking the original source_list at the combo nodes\n",
      "                residuals = []\n",
      "                source_copy = source_list[:]\n",
      "                for source in combo:\n",
      "                    \n",
      "                    residual = source_copy[0:source_copy.index(source)]\n",
      "                    if len(residual) > 0:\n",
      "                        residuals.append(residual)\n",
      "                    source_copy = source_copy[source_copy.index(source)+1:]\n",
      "    \n",
      "                if len(source_copy) > 0:\n",
      "                    residuals.append(source_copy)\n",
      "                    \n",
      "                print 'residuals list:'\n",
      "                print residuals\n",
      "                \n",
      "                if len(residuals) == 0: # If there are no residuals, then this state is 'fully connected', and we can add it to the state list.\n",
      "                    state_list.append(state)\n",
      "                    print 'no residuals, added state to state_list'\n",
      "                else: # If not, we work through all of the residuals to connect them so we have a 'fully connected' state, then add it to the state list.\n",
      "                    temp_state_list = [state]\n",
      "                    for residual in residuals:\n",
      "                        print 'residual: ' + str(residual)\n",
      "                        if len(residual) == 1:\n",
      "                            print 'residual length 1, adding to state'\n",
      "                            # This means a node has been isolated b/c the origin has been connected to the adj. nodes.\n",
      "                            for state in temp_state_list:\n",
      "                                state.append([2*origin_source, 1+2*residual[0]]) # Connect to origin as well\n",
      "                                state.append([2*residual[0],1+2*(source_list[(source_list.index(residual[0])-1)%len(residual)])]) # and connect right-adjacent\n",
      "                                state.append([2*residual[0], 1+2*residual[0]])# connect source to it's out\n",
      "                                \n",
      "                        else: # len(residual) > 1:\n",
      "                            print 'residual length > 1, recursion is called'\n",
      "                            for state in temp_state_list:\n",
      "                                new_gen_states = []\n",
      "                                for gen_state in gen_states(residual):\n",
      "                                    # Generate a list of all possible child states\n",
      "                                    new_gen_states.append(state[:] + gen_state[:])\n",
      "                                # remove that state from the temp state list and replace it with the list of generated child states\n",
      "                                temp_state_list.remove(state)\n",
      "                                temp_state_list.extend(new_gen_states)\n",
      "                    state_list.extend(temp_state_list)\n",
      "        \n",
      "        source_list.insert(0,source_list.pop()) # we rotate the source list right by 1...\n",
      "        \n",
      "        \n",
      "    print 'done. returing state list'\n",
      "    return state_list   \n"
     ],
     "language": "python",
     "metadata": {},
     "outputs": [],
     "prompt_number": 14
    },
    {
     "cell_type": "code",
     "collapsed": false,
     "input": [
      "gen_states([0,1])"
     ],
     "language": "python",
     "metadata": {},
     "outputs": [
      {
       "output_type": "stream",
       "stream": "stdout",
       "text": [
        "combo list:\n",
        "(0,)\n",
        "(1,)\n",
        "(0, 1)\n",
        "combo:\n",
        "(0,)\n",
        "[0, 1]\n",
        "what is 3\n",
        "states after initial combo connections:\n",
        "[[0, 1], [0, 3], [0, 1]]\n",
        "residuals list:\n",
        "[[1]]\n",
        "residual: [1]\n",
        "residual length 1, adding to state\n",
        "combo:\n",
        "(1,)\n",
        "[0, 3]\n",
        "what is 1\n",
        "states after initial combo connections:\n",
        "[[0, 3], [2, 1], [2, 3]]\n",
        "residuals list:\n",
        "[[0]]\n",
        "residual: [0]\n",
        "residual length 1, adding to state\n",
        "combo:\n",
        "(0, 1)\n",
        "[0, 1]\n",
        "what is 3\n",
        "[0, 3]\n",
        "what is 1\n",
        "states after initial combo connections:\n",
        "[[0, 1], [0, 3], [0, 1], [0, 3], [2, 1], [2, 3]]\n",
        "residuals list:\n",
        "[]\n",
        "no residuals, added state to state_list\n",
        "combo list:\n",
        "(1,)\n",
        "(0,)\n",
        "(1, 0)\n",
        "combo:\n",
        "(1,)\n",
        "[2, 3]\n",
        "what is 1\n",
        "states after initial combo connections:\n",
        "[[2, 3], [2, 1], [2, 3]]\n",
        "residuals list:\n",
        "[[0]]\n",
        "residual: [0]\n",
        "residual length 1, adding to state\n",
        "combo:\n",
        "(0,)\n",
        "[2, 1]\n",
        "what is 3\n",
        "states after initial combo connections:\n",
        "[[2, 1], [0, 3], [0, 1]]\n",
        "residuals list:\n",
        "[[1]]\n",
        "residual: [1]\n",
        "residual length 1, adding to state\n",
        "combo:\n",
        "(1, 0)\n",
        "[2, 3]\n",
        "what is 1\n",
        "[2, 1]\n",
        "what is 3\n",
        "states after initial combo connections:\n",
        "[[2, 3], [2, 1], [2, 3], [2, 1], [0, 3], [0, 1]]\n",
        "residuals list:\n",
        "[]\n",
        "no residuals, added state to state_list\n",
        "done. returing state list\n"
       ]
      },
      {
       "metadata": {},
       "output_type": "pyout",
       "prompt_number": 15,
       "text": [
        "[[[0, 1], [0, 3], [0, 1], [0, 3], [2, 1], [2, 3]],\n",
        " [[0, 3], [2, 1], [2, 3], [0, 1], [0, 1], [0, 1]],\n",
        " [[0, 1], [0, 3], [0, 1], [0, 3], [2, 1], [2, 3]],\n",
        " [[2, 3], [2, 1], [2, 3], [2, 1], [0, 3], [0, 1]],\n",
        " [[2, 1], [0, 3], [0, 1], [2, 3], [2, 3], [2, 3]],\n",
        " [[2, 3], [2, 1], [2, 3], [2, 1], [0, 3], [0, 1]]]"
       ]
      }
     ],
     "prompt_number": 15
    },
    {
     "cell_type": "code",
     "collapsed": false,
     "input": [
      "gen_states([0,1,2])"
     ],
     "language": "python",
     "metadata": {},
     "outputs": [
      {
       "output_type": "stream",
       "stream": "stdout",
       "text": [
        "combo list:\n",
        "(1,)\n",
        "(2,)\n",
        "(1, 2)\n",
        "combo:\n",
        "(1,)\n",
        "[0, 3]\n",
        "what is 5\n",
        "states after initial combo connections:\n",
        "[[0, 3], [2, 5]]\n",
        "residuals list:\n",
        "[[2]]\n",
        "residual: [2]\n",
        "residual length 1, adding to state\n",
        "combo:\n",
        "(2,)\n",
        "[0, 5]\n",
        "what is 3\n",
        "states after initial combo connections:\n",
        "[[0, 5], [4, 3]]\n",
        "residuals list:\n",
        "[[1]]\n",
        "residual: [1]\n",
        "residual length 1, adding to state\n",
        "combo:\n",
        "(1, 2)\n",
        "[0, 3]\n",
        "what is 5\n",
        "[0, 5]\n",
        "what is 3\n",
        "states after initial combo connections:\n",
        "[[0, 3], [2, 5], [0, 5], [4, 3]]\n",
        "residuals list:\n",
        "[]\n",
        "no residuals, added state to state_list\n",
        "combo list:\n",
        "(2,)\n",
        "(0,)\n",
        "(2, 0)\n",
        "combo:\n",
        "(2,)\n",
        "[2, 5]\n",
        "what is 1\n",
        "states after initial combo connections:\n",
        "[[2, 5], [4, 1]]\n",
        "residuals list:\n",
        "[[0]]\n",
        "residual: [0]\n",
        "residual length 1, adding to state\n",
        "combo:\n",
        "(0,)\n",
        "[2, 1]\n",
        "what is 5\n",
        "states after initial combo connections:\n",
        "[[2, 1], [0, 5]]\n",
        "residuals list:\n",
        "[[2]]\n",
        "residual: [2]\n",
        "residual length 1, adding to state\n",
        "combo:\n",
        "(2, 0)\n",
        "[2, 5]\n",
        "what is 1\n",
        "[2, 1]\n",
        "what is 5\n",
        "states after initial combo connections:\n",
        "[[2, 5], [4, 1], [2, 1], [0, 5]]\n",
        "residuals list:\n",
        "[]\n",
        "no residuals, added state to state_list\n",
        "combo list:\n",
        "(0,)\n",
        "(1,)\n",
        "(0, 1)\n",
        "combo:\n",
        "(0,)\n",
        "[4, 1]\n",
        "what is 3\n",
        "states after initial combo connections:\n",
        "[[4, 1], [0, 3]]\n",
        "residuals list:\n",
        "[[1]]\n",
        "residual: [1]\n",
        "residual length 1, adding to state\n",
        "combo:\n",
        "(1,)\n",
        "[4, 3]\n",
        "what is 1\n",
        "states after initial combo connections:\n",
        "[[4, 3], [2, 1]]\n",
        "residuals list:\n",
        "[[0]]\n",
        "residual: [0]\n",
        "residual length 1, adding to state\n",
        "combo:\n",
        "(0, 1)\n",
        "[4, 1]\n",
        "what is 3\n",
        "[4, 3]\n",
        "what is 1\n",
        "states after initial combo connections:\n",
        "[[4, 1], [0, 3], [4, 3], [2, 1]]\n",
        "residuals list:\n",
        "[]\n",
        "no residuals, added state to state_list\n",
        "done. returing state list\n"
       ]
      },
      {
       "metadata": {},
       "output_type": "pyout",
       "prompt_number": 6,
       "text": [
        "[[[0, 3], [2, 5], [0, 5], [4, 3]],\n",
        " [[0, 5], [4, 3], [0, 3], [2, 3]],\n",
        " [[0, 3], [2, 5], [0, 5], [4, 3]],\n",
        " [[2, 5], [4, 1], [2, 1], [0, 5]],\n",
        " [[2, 1], [0, 5], [2, 5], [4, 5]],\n",
        " [[2, 5], [4, 1], [2, 1], [0, 5]],\n",
        " [[4, 1], [0, 3], [4, 3], [2, 1]],\n",
        " [[4, 3], [2, 1], [4, 1], [0, 1]],\n",
        " [[4, 1], [0, 3], [4, 3], [2, 1]]]"
       ]
      }
     ],
     "prompt_number": 6
    },
    {
     "cell_type": "code",
     "collapsed": false,
     "input": [
      "gen_states([0,1,2,3])"
     ],
     "language": "python",
     "metadata": {},
     "outputs": [
      {
       "output_type": "stream",
       "stream": "stdout",
       "text": [
        "combo list:\n",
        "(1,)\n",
        "(2,)\n",
        "(3,)\n",
        "(1, 2)\n",
        "(1, 3)\n",
        "(2, 3)\n",
        "(1, 2, 3)\n",
        "combo:\n",
        "(1,)\n",
        "[0, 3]\n",
        "states after initial combo connections:\n",
        "[[0, 3], [2, 1]]\n",
        "residuals list:\n",
        "[[2, 3]]\n",
        "residual: [2, 3]\n",
        "residual length > 1, recursion is called\n",
        "combo list:\n",
        "(3,)\n",
        "combo:\n",
        "(3,)\n",
        "[4, 7]\n",
        "states after initial combo connections:\n",
        "[[4, 7], [6, 5]]\n",
        "residuals list:\n",
        "[]\n",
        "no residuals, added state to state_list\n",
        "done. returing state list\n",
        "combo:\n",
        "(2,)\n",
        "[0, 5]\n",
        "states after initial combo connections:\n",
        "[[0, 5], [4, 3]]\n",
        "residuals list:\n",
        "[[1], [3]]\n",
        "residual: [1]\n",
        "residual length 1, adding to state\n",
        "residual: [3]\n",
        "residual length 1, adding to state\n",
        "combo:\n",
        "(3,)\n",
        "[0, 7]\n",
        "states after initial combo connections:\n",
        "[[0, 7], [6, 5]]\n",
        "residuals list:\n",
        "[[1, 2]]\n",
        "residual: [1, 2]\n",
        "residual length > 1, recursion is called\n",
        "combo list:\n",
        "(2,)\n",
        "combo:\n",
        "(2,)\n",
        "[2, 5]\n",
        "states after initial combo connections:\n",
        "[[2, 5], [4, 3]]\n",
        "residuals list:\n",
        "[]\n",
        "no residuals, added state to state_list\n",
        "done. returing state list\n",
        "combo:\n",
        "(1, 2)\n",
        "[0, 3]\n",
        "[0, 5]\n",
        "states after initial combo connections:\n",
        "[[0, 3], [2, 1], [0, 5], [4, 3]]\n",
        "residuals list:\n",
        "[[3]]\n",
        "residual: [3]\n",
        "residual length 1, adding to state\n",
        "combo:\n",
        "(1, 3)\n",
        "[0, 3]\n",
        "[0, 7]\n",
        "states after initial combo connections:\n",
        "[[0, 3], [2, 1], [0, 7], [6, 5]]\n",
        "residuals list:\n",
        "[[2]]\n",
        "residual: [2]\n",
        "residual length 1, adding to state\n",
        "combo:\n",
        "(2, 3)\n",
        "[0, 5]\n",
        "[0, 7]\n",
        "states after initial combo connections:\n",
        "[[0, 5], [4, 3], [0, 7], [6, 5]]\n",
        "residuals list:\n",
        "[[1]]\n",
        "residual: [1]\n",
        "residual length 1, adding to state\n",
        "combo:\n",
        "(1, 2, 3)\n",
        "[0, 3]\n",
        "[0, 5]\n",
        "[0, 7]\n",
        "states after initial combo connections:\n",
        "[[0, 3], [2, 1], [0, 5], [4, 3], [0, 7], [6, 5]]\n",
        "residuals list:\n",
        "[]\n",
        "no residuals, added state to state_list\n",
        "done. returing state list\n"
       ]
      },
      {
       "metadata": {},
       "output_type": "pyout",
       "prompt_number": 204,
       "text": [
        "[[[0, 3], [2, 1], [4, 7], [6, 5]],\n",
        " [[0, 5], [4, 3], [0, 3], [2, 1], [0, 7], [6, 5]],\n",
        " [[0, 7], [6, 5], [2, 5], [4, 3]],\n",
        " [[0, 3], [2, 1], [0, 5], [4, 3], [0, 7], [6, 5]],\n",
        " [[0, 3], [2, 1], [0, 7], [6, 5], [0, 5], [4, 3]],\n",
        " [[0, 5], [4, 3], [0, 7], [6, 5], [0, 3], [2, 1]],\n",
        " [[0, 3], [2, 1], [0, 5], [4, 3], [0, 7], [6, 5]]]"
       ]
      }
     ],
     "prompt_number": 204
    },
    {
     "cell_type": "markdown",
     "metadata": {},
     "source": [
      "## Combination Generators"
     ]
    },
    {
     "cell_type": "code",
     "collapsed": false,
     "input": [
      "# playing with combination generators\n",
      "n=2\n",
      "source_combos = [combinations(range(1,n),i) for i in xrange(1,n)]\n",
      "    \n",
      "for combo in source_combos:\n",
      "    for c in combo:\n",
      "        print c"
     ],
     "language": "python",
     "metadata": {},
     "outputs": [
      {
       "output_type": "stream",
       "stream": "stdout",
       "text": [
        "(1,)\n"
       ]
      }
     ],
     "prompt_number": 35
    },
    {
     "cell_type": "code",
     "collapsed": false,
     "input": [
      "gen_states(4,2)"
     ],
     "language": "python",
     "metadata": {},
     "outputs": [
      {
       "output_type": "stream",
       "stream": "stdout",
       "text": [
        "log: possible combinations node combinations with 0-node: \n",
        "\n",
        "(3,)\n",
        "(4,)\n",
        "(5,)\n",
        "(3, 4)\n",
        "(3, 5)\n",
        "(4, 5)\n",
        "(3, 4, 5)\n"
       ]
      }
     ],
     "prompt_number": 42
    },
    {
     "cell_type": "markdown",
     "metadata": {},
     "source": [
      "## Checking permutation\n",
      "Fn to check whether two arrays are permutations of each other."
     ]
    },
    {
     "cell_type": "code",
     "collapsed": false,
     "input": [
      "def perm(a1, a2):\n",
      "    a1c = a1[:]\n",
      "    a2c = a2[:]\n",
      "    while len(a1c) > 0:\n",
      "        if a1c[0] in a2c:\n",
      "            a2c.remove(a1c[0])\n",
      "            a1c.remove(a1c[0])\n",
      "        else:\n",
      "            return False\n",
      "    return True"
     ],
     "language": "python",
     "metadata": {},
     "outputs": [],
     "prompt_number": 200
    },
    {
     "cell_type": "code",
     "collapsed": false,
     "input": [
      "# Testing\n",
      "a = [[1,2], [2,1]]\n",
      "b = [[2,1], [1,2]]\n",
      "is_perm(a,b)"
     ],
     "language": "python",
     "metadata": {},
     "outputs": [
      {
       "metadata": {},
       "output_type": "pyout",
       "prompt_number": 203,
       "text": [
        "True"
       ]
      }
     ],
     "prompt_number": 203
    },
    {
     "cell_type": "markdown",
     "metadata": {},
     "source": [
      "## Generating Subsets (testing)"
     ]
    },
    {
     "cell_type": "code",
     "collapsed": false,
     "input": [
      "l = 3\n",
      "sources = range(1, l)\n",
      "# sources.insert(0,0)\n",
      "print l\n",
      "print sources\n",
      "\n",
      "ref = 0\n",
      "combos = [1]\n",
      "\n",
      "sub_list = []\n",
      "\n",
      "for i in combos:\n",
      "    sub_list.append(sources[ref:sources.index(i)])\n",
      "    ref = sources.index(i)+1\n",
      "    \n",
      "print sub_list\n",
      "    "
     ],
     "language": "python",
     "metadata": {},
     "outputs": [
      {
       "output_type": "stream",
       "stream": "stdout",
       "text": [
        "3\n",
        "[1, 2]\n",
        "[[]]\n"
       ]
      }
     ],
     "prompt_number": 61
    },
    {
     "cell_type": "code",
     "collapsed": false,
     "input": [
      "l = 3\n",
      "sources = range(1, l)\n",
      "# sources.insert(0,0)\n",
      "print l\n",
      "print sources\n",
      "\n",
      "combos = [1]\n",
      "\n",
      "sub_list = []\n",
      "\n",
      "for i in combos:\n",
      "    sub = sources[ref:sources.index(i)]\n",
      "    if len(sub) > 0:\n",
      "        sub_list.append(sub) \n",
      "    sources = sources[sources.index(i)+1:]\n",
      "    \n",
      "sub_list.append(sources) if len(sources) > 0\n",
      "\n",
      "print sub_list\n"
     ],
     "language": "python",
     "metadata": {},
     "outputs": [
      {
       "ename": "SyntaxError",
       "evalue": "invalid syntax (<ipython-input-72-351e9549d821>, line 17)",
       "output_type": "pyerr",
       "traceback": [
        "\u001b[0;36m  File \u001b[0;32m\"<ipython-input-72-351e9549d821>\"\u001b[0;36m, line \u001b[0;32m17\u001b[0m\n\u001b[0;31m    sub_list.append(sources) if len(sources) > 0\u001b[0m\n\u001b[0m                                                ^\u001b[0m\n\u001b[0;31mSyntaxError\u001b[0m\u001b[0;31m:\u001b[0m invalid syntax\n"
       ]
      }
     ],
     "prompt_number": 72
    },
    {
     "cell_type": "code",
     "collapsed": false,
     "input": [
      "x = [1,2]\n",
      "x[1:]"
     ],
     "language": "python",
     "metadata": {},
     "outputs": [
      {
       "metadata": {},
       "output_type": "pyout",
       "prompt_number": 173,
       "text": [
        "[2]"
       ]
      }
     ],
     "prompt_number": 173
    },
    {
     "cell_type": "code",
     "collapsed": false,
     "input": [
      "# Generate a node list based off a source list\n",
      "source_list = [0,1,2,3]\n",
      "node_list = []\n",
      "for source in source_list:\n",
      "    node_list.append(2*source)\n",
      "    node_list.append(1+2*source)\n",
      "print node_list"
     ],
     "language": "python",
     "metadata": {},
     "outputs": [
      {
       "output_type": "stream",
       "stream": "stdout",
       "text": [
        "[0, 1, 2, 3, 4, 5, 6, 7]\n"
       ]
      }
     ],
     "prompt_number": 8
    },
    {
     "cell_type": "code",
     "collapsed": false,
     "input": [
      "# Generate rotations of a list\n",
      "sl = [0,1,2,3]\n",
      "for i in range(len(sl)): # We run this pattern for each node as the origin node.\n",
      "    source_list = []\n",
      "    for j in range(len(sl)):\n",
      "        source_list.append((i+j)%len(sl))\n",
      "    print source_list"
     ],
     "language": "python",
     "metadata": {},
     "outputs": [
      {
       "output_type": "stream",
       "stream": "stdout",
       "text": [
        "[0, 1, 2, 3]\n",
        "[1, 2, 3, 0]\n",
        "[2, 3, 0, 1]\n",
        "[3, 0, 1, 2]\n"
       ]
      }
     ],
     "prompt_number": 12
    },
    {
     "cell_type": "code",
     "collapsed": false,
     "input": [],
     "language": "python",
     "metadata": {},
     "outputs": []
    },
    {
     "cell_type": "code",
     "collapsed": false,
     "input": [],
     "language": "python",
     "metadata": {},
     "outputs": []
    },
    {
     "cell_type": "code",
     "collapsed": false,
     "input": [],
     "language": "python",
     "metadata": {},
     "outputs": []
    },
    {
     "cell_type": "code",
     "collapsed": false,
     "input": [],
     "language": "python",
     "metadata": {},
     "outputs": []
    },
    {
     "cell_type": "code",
     "collapsed": false,
     "input": [],
     "language": "python",
     "metadata": {},
     "outputs": []
    }
   ],
   "metadata": {}
  }
 ]
}