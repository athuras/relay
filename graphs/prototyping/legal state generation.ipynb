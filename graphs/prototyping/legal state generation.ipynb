{
 "metadata": {
  "name": ""
 },
 "nbformat": 3,
 "nbformat_minor": 0,
 "worksheets": [
  {
   "cells": [
    {
     "cell_type": "markdown",
     "metadata": {},
     "source": [
      "# Legal State Generation\n",
      "Given a number of sources into an intersection, n, generate all legal (non-intersecting) edge combinations.\n",
      "\n",
      "## Inputs:\n",
      "- num_sources: The number of sources in the intersection. A source is considered one in and one out node. For example, a four-way intersection has four sources.\n",
      "- ref_source: The number of the reference source. Recursive use of this function will require that the function is performed with respect to the not-reference (zero) source.\n",
      "- state_list: a list of currently valid states. For recursive use of the function.\n",
      "- state: The current state which is being developed. For recursive use of the function.\n"
     ]
    },
    {
     "cell_type": "code",
     "collapsed": false,
     "input": [
      "from itertools import combinations"
     ],
     "language": "python",
     "metadata": {},
     "outputs": [],
     "prompt_number": 1
    },
    {
     "cell_type": "code",
     "collapsed": false,
     "input": [
      "def gen_states(num_sources, ref_source = 0, state_list = [], state = []):\n",
      "    \n",
      "    if num_sources < 2:\n",
      "        print 'You must have at least 2 sources to generate an intersection'\n",
      "        return None\n",
      "    \n",
      "    # Assume 2 nodes for each source, make some references\n",
      "    origin_node = 2*ref_source\n",
      "    node_nums = range(2*ref_source,2*(num_sources + ref_source))\n",
      "    \n",
      "    # Generage list of all possible source combinations with reference to the reference source (0)\n",
      "    source_combos = [combinations(range(ref_source + 1,num_sources + ref_source),i) for i in xrange(1, num_sources)]\n",
      "    \n",
      "    print 'log: possible combinations node combinations with 0-node: \\n'\n",
      "    for combo in source_combos:\n",
      "        for c in combo:\n",
      "            print c\n",
      "            \n",
      "    # Loop through each possible combination of connections to reference node\n",
      "    for combo_length in source_combos:\n",
      "        for combo in combo_length:\n",
      "                     \n",
      "            # Add reference node connections to the current state list\n",
      "            for connection_source in combo:\n",
      "                connection_node = 1+2*connection_soure\n",
      "                state.append([origin, connection_node])\n",
      "                \n",
      "            # Break up the source list by removing the sources which were connected\n",
      "            \n",
      "            # for each break\n",
      "            \n",
      "                # If the break has 2 or more nodes, recurse...\n",
      "                \n",
      "                # else if the function has only 1 node, connect it to the reference node\n",
      "                \n",
      "                # else there are none left, all possible connections are made\n",
      "                    # Add all the adjacent turns to the list\n",
      "                    # add the list to state list\n",
      "                \n",
      "    "
     ],
     "language": "python",
     "metadata": {},
     "outputs": [],
     "prompt_number": 36
    },
    {
     "cell_type": "code",
     "collapsed": false,
     "input": [
      "n=2\n",
      "source_combos = [combinations(range(1,n),i) for i in xrange(1,n)]\n",
      "    \n",
      "for combo in source_combos:\n",
      "    for c in combo:\n",
      "        print c"
     ],
     "language": "python",
     "metadata": {},
     "outputs": [
      {
       "output_type": "stream",
       "stream": "stdout",
       "text": [
        "(1,)\n"
       ]
      }
     ],
     "prompt_number": 35
    },
    {
     "cell_type": "code",
     "collapsed": false,
     "input": [
      "gen_states(2)"
     ],
     "language": "python",
     "metadata": {},
     "outputs": [
      {
       "output_type": "stream",
       "stream": "stdout",
       "text": [
        "log: possible combinations node combinations with 0-node: \n",
        "\n",
        "(1,)\n"
       ]
      }
     ],
     "prompt_number": 34
    },
    {
     "cell_type": "code",
     "collapsed": false,
     "input": [
      "gen_states(4,2)\n"
     ],
     "language": "python",
     "metadata": {},
     "outputs": [
      {
       "output_type": "stream",
       "stream": "stdout",
       "text": [
        "log: possible combinations node combinations with 0-node: \n",
        "\n",
        "(3,)\n",
        "(4,)\n",
        "(5,)\n",
        "(3, 4)\n",
        "(3, 5)\n",
        "(4, 5)\n",
        "(3, 4, 5)\n"
       ]
      }
     ],
     "prompt_number": 42
    },
    {
     "cell_type": "code",
     "collapsed": false,
     "input": [],
     "language": "python",
     "metadata": {},
     "outputs": []
    }
   ],
   "metadata": {}
  }
 ]
}