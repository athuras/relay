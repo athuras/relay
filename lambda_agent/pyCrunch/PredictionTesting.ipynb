{
 "metadata": {
  "name": ""
 },
 "nbformat": 3,
 "nbformat_minor": 0,
 "worksheets": [
  {
   "cells": [
    {
     "cell_type": "code",
     "collapsed": false,
     "input": [
      "%pylab --no-import-all inline"
     ],
     "language": "python",
     "metadata": {},
     "outputs": [
      {
       "output_type": "stream",
       "stream": "stdout",
       "text": [
        "Populating the interactive namespace from numpy and matplotlib\n"
       ]
      }
     ],
     "prompt_number": 1
    },
    {
     "cell_type": "code",
     "collapsed": false,
     "input": [
      "import predictions as pr\n",
      "import numpy as np\n",
      "from scipy import stats\n",
      "import matplotlib\n",
      "import matplotlib.pyplot as plt\n"
     ],
     "language": "python",
     "metadata": {},
     "outputs": [],
     "prompt_number": 2
    },
    {
     "cell_type": "code",
     "collapsed": false,
     "input": [
      "def generate_nbr_signals(distance, speed_limit, fast_coeff, amount):\n",
      "    '''\n",
      "    generate set of signals\n",
      "    * distance: In meters, the length of the edge/road\n",
      "    * speed_limit: in km/h\n",
      "    * fast_coeff: how much faster than the speed limit we \n",
      "        want to allow, typically 1.2\n",
      "    * amount: the number of samples to generate\n",
      "    '''\n",
      "    min_time = distance / (fast_coeff * speed_limit / 3.6)\n",
      "    G = stats.gamma(3, loc=min_time, scale=4)\n",
      "    #x = np.linspace(1, 6*amount, 6*amount)\n",
      "    #sqr = signal.square(5 * np.pi * x)\n",
      "    #sig = np.sin(3 * np.pi * x)\n",
      "    #pwm = signal.square(5 * np.pi * x, duty=(sig + 1) / 4)\n",
      "    \n",
      "    sample = stats.foldnorm(1, scale=3)\n",
      "    \n",
      "    A = sample.rvs(100)#np.where(pwm == 1)[0]\n",
      "    \n",
      "    # Noise\n",
      "    n1 = stats.foldnorm(1, scale=2)\n",
      "    n2 = stats.foldnorm(1, loc=5, scale=1)\n",
      "    noise = n1.rvs(size=A.size) + n2.rvs(size=A.size)\n",
      "    \n",
      "    #lag = G.rvs(size=A.size)\n",
      "    C = A + 2.2 * noise\n",
      "    B = A + 4 * noise\n",
      "    A = A + noise\n",
      "    u = B.mean() - A.mean()\n",
      "    s = (A.std() + B.std()) / 2 \n",
      "    a = A#[(A >= u - 2 * s) & (A <= u + 2 * s)]\n",
      "    b = B#[(B >= u - 2 * s) & (B <= u + 2 * s)]\n",
      "    c = C\n",
      "    \n",
      "    # minslice\n",
      "    q = min(a.size, b.size, c.size, amount)\n",
      "    return G, min_time, a[:q], b[:q], c[:q]"
     ],
     "language": "python",
     "metadata": {},
     "outputs": [],
     "prompt_number": 3
    },
    {
     "cell_type": "heading",
     "level": 4,
     "metadata": {},
     "source": [
      "Setting up data for running prediction"
     ]
    },
    {
     "cell_type": "code",
     "collapsed": false,
     "input": [
      "bhvr_sample = (((0, 1, 0.1), (0, 2, 0.6), (0, 3, 0.3), (3, 2, 1), (1, 0, 1), \\\n",
      "            (2, 1, 0.2), (2, 0, 0.7), (2, 3, 0.1)),)\n",
      "\n",
      "gamm, min_time, A, B, C = generate_nbr_signals(1000, 60, 1.2, 400)\n",
      "\n",
      "# for gamma\n",
      "shape = 3\n",
      "loc=min_time\n",
      "scale=4\n",
      "\n",
      "edges = ((1, 3, (shape, loc, scale)),)\n",
      "\n",
      "bins = np.linspace(0, 100, 100)\n",
      "nbr_signals = ([np.histogram(A, bins), np.histogram(B, bins), np.histogram(C, bins)],)"
     ],
     "language": "python",
     "metadata": {},
     "outputs": [],
     "prompt_number": 4
    },
    {
     "cell_type": "heading",
     "level": 4,
     "metadata": {},
     "source": [
      "Test to ensure each function works as expected"
     ]
    },
    {
     "cell_type": "code",
     "collapsed": false,
     "input": [
      "bhvrs = [pr.create_bhvr_prob_mtx(b) for b in bhvr_sample]\n",
      "out_probs = pr.extract_probs(edges[0][1], bhvrs[0])\n",
      "trans_sigs = pr.transform_sigs(nbr_signals[0], out_probs)\n",
      "comb_sig = pr.combine_sig_ests(trans_sigs)"
     ],
     "language": "python",
     "metadata": {},
     "outputs": [],
     "prompt_number": 5
    },
    {
     "cell_type": "heading",
     "level": 4,
     "metadata": {},
     "source": [
      "Generate a prediction"
     ]
    },
    {
     "cell_type": "code",
     "collapsed": false,
     "input": [
      "prediction, pred_time = pr.gen_prediction(nbr_signals, bhvr_sample, edges)\n",
      "plt.plot(prediction[0])\n",
      "\n",
      "#SWANGING\n",
      "#EYESCLOSED\n",
      "#wowitactuallyworks"
     ],
     "language": "python",
     "metadata": {},
     "outputs": [
      {
       "metadata": {},
       "output_type": "pyout",
       "prompt_number": 11,
       "text": [
        "[<matplotlib.lines.Line2D at 0x10c3a9ed0>]"
       ]
      },
      {
       "metadata": {},
       "output_type": "display_data",
       "png": "[encoded data removed]",
       "text": [
        "<matplotlib.figure.Figure at 0x10c31eb50>"
       ]
      }
     ],
     "prompt_number": 11
    },
    {
     "cell_type": "code",
     "collapsed": false,
     "input": [],
     "language": "python",
     "metadata": {},
     "outputs": [],
     "prompt_number": 11
    },
    {
     "cell_type": "code",
     "collapsed": false,
     "input": [],
     "language": "python",
     "metadata": {},
     "outputs": [],
     "prompt_number": 48
    },
    {
     "cell_type": "code",
     "collapsed": false,
     "input": [],
     "language": "python",
     "metadata": {},
     "outputs": []
    }
   ],
   "metadata": {}
  }
 ]
}