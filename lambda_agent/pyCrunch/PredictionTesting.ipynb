{
 "metadata": {
  "name": ""
 },
 "nbformat": 3,
 "nbformat_minor": 0,
 "worksheets": [
  {
   "cells": [
    {
     "cell_type": "code",
     "collapsed": false,
     "input": [
      "%pylab --no-import-all inline"
     ],
     "language": "python",
     "metadata": {},
     "outputs": [
      {
       "output_type": "stream",
       "stream": "stdout",
       "text": [
        "Populating the interactive namespace from numpy and matplotlib\n"
       ]
      }
     ],
     "prompt_number": 193
    },
    {
     "cell_type": "code",
     "collapsed": false,
     "input": [
      "import predictions as pr\n",
      "import prediction_helpers as prh\n",
      "import numpy as np\n",
      "from scipy import stats\n",
      "import matplotlib\n",
      "import matplotlib.pyplot as plt\n"
     ],
     "language": "python",
     "metadata": {},
     "outputs": [],
     "prompt_number": 250
    },
    {
     "cell_type": "code",
     "collapsed": false,
     "input": [
      "def generate_nbr_signals(distance, speed_limit, fast_coeff, amount):\n",
      "    '''\n",
      "    generate set of signals\n",
      "    * distance: In meters, the length of the edge/road\n",
      "    * speed_limit: in km/h\n",
      "    * fast_coeff: how much faster than the speed limit we \n",
      "        want to allow, typically 1.2\n",
      "    * amount: the number of samples to generate\n",
      "    '''\n",
      "    min_time = distance / (fast_coeff * speed_limit / 3.6)\n",
      "    G = stats.gamma(3, loc=min_time, scale=4)\n",
      "    #x = np.linspace(1, 6*amount, 6*amount)\n",
      "    #sqr = signal.square(5 * np.pi * x)\n",
      "    #sig = np.sin(3 * np.pi * x)\n",
      "    #pwm = signal.square(5 * np.pi * x, duty=(sig + 1) / 4)\n",
      "    \n",
      "    sample = stats.foldnorm(1, scale=3)\n",
      "    \n",
      "    A = sample.rvs(250)#np.where(pwm == 1)[0]\n",
      "    \n",
      "    # Noise\n",
      "    n1 = stats.foldnorm(1, scale=2)\n",
      "    n2 = stats.foldnorm(1, loc=5, scale=1)\n",
      "    noise = n1.rvs(size=A.size) + n2.rvs(size=A.size)\n",
      "    \n",
      "    #lag = G.rvs(size=A.size)\n",
      "    D = A + 3.4 * noise\n",
      "    C = A + 1.1 * noise\n",
      "    B = A + 0.95 * noise\n",
      "    A = A + noise\n",
      "    u = B.mean() - A.mean()\n",
      "    s = (A.std() + B.std()) / 2 \n",
      "    a = A#[(A >= u - 2 * s) & (A <= u + 2 * s)]\n",
      "    b = B#[(B >= u - 2 * s) & (B <= u + 2 * s)]\n",
      "    c = C\n",
      "    d = D\n",
      "    \n",
      "    # minslice\n",
      "    q = min(a.size, b.size, c.size, amount)\n",
      "    return G, min_time, a[:q], b[:q], c[:q], d[:q]"
     ],
     "language": "python",
     "metadata": {},
     "outputs": [],
     "prompt_number": 304
    },
    {
     "cell_type": "heading",
     "level": 3,
     "metadata": {},
     "source": [
      "Generating Predicitons"
     ]
    },
    {
     "cell_type": "heading",
     "level": 4,
     "metadata": {},
     "source": [
      "Setting up data for running prediction"
     ]
    },
    {
     "cell_type": "code",
     "collapsed": false,
     "input": [
      "bhvr_sample = (((0, 1, 0.1), (0, 2, 0.6), (0, 3, 0.3), (3, 2, 1), (1, 0, 1), \\\n",
      "            (2, 1, 0.2), (2, 0, 0.7), (2, 3, 0.1)),)\n",
      "\n",
      "gamm, min_time, A, B, C, D = generate_nbr_signals(1000, 60, 1.2, 400)\n",
      "\n",
      "# for gamma\n",
      "shape = 3.0\n",
      "loc=30.0#min_time\n",
      "scale=4.0\n",
      "\n",
      "edges = ((1, 3, (shape, loc, scale)),)\n",
      "\n",
      "bins = np.linspace(0, 100, 100)\n",
      "nbr_signals = ([np.histogram(A, bins), np.histogram(B, bins), np.histogram(C, bins)],)"
     ],
     "language": "python",
     "metadata": {},
     "outputs": [],
     "prompt_number": 305
    },
    {
     "cell_type": "heading",
     "level": 4,
     "metadata": {},
     "source": [
      "Test to ensure each function works as expected"
     ]
    },
    {
     "cell_type": "code",
     "collapsed": false,
     "input": [
      "bhvrs = [prh.create_bhvr_prob_mtx(b) for b in bhvr_sample]\n",
      "out_probs = prh.extract_probs(edges[0][1], bhvrs[0])\n",
      "trans_sigs = prh.transform_sigs(nbr_signals[0], out_probs)\n",
      "comb_sig = prh.combine_sig_ests(trans_sigs)"
     ],
     "language": "python",
     "metadata": {},
     "outputs": [],
     "prompt_number": 306
    },
    {
     "cell_type": "heading",
     "level": 4,
     "metadata": {},
     "source": [
      "Generate a prediction"
     ]
    },
    {
     "cell_type": "code",
     "collapsed": false,
     "input": [
      "prediction, pred_time = pr.gen_prediction(nbr_signals, bhvr_sample, edges)\n",
      "plt.plot(prediction[0])\n",
      "plt.plot(nbr_signals[0][0][0])\n",
      "plt.plot(nbr_signals[0][1][0])\n",
      "plt.plot(nbr_signals[0][2][0])\n",
      "\n",
      "#SWANGING\n",
      "#EYESCLOSED\n",
      "#wowitactuallyworks"
     ],
     "language": "python",
     "metadata": {},
     "outputs": [
      {
       "metadata": {},
       "output_type": "pyout",
       "prompt_number": 307,
       "text": [
        "[<matplotlib.lines.Line2D at 0x10b374fd0>]"
       ]
      },
      {
       "metadata": {},
       "output_type": "display_data",
       "png": "[encoded data removed]",
       "text": [
        "<matplotlib.figure.Figure at 0x10b344810>"
       ]
      }
     ],
     "prompt_number": 307
    },
    {
     "cell_type": "heading",
     "level": 3,
     "metadata": {},
     "source": [
      "Time Delay Estimation"
     ]
    },
    {
     "cell_type": "code",
     "collapsed": false,
     "input": [
      "def residuals(p, y, x):\n",
      "    shape, loc, scale, a = p\n",
      "    \n",
      "    l=np.linspace(0,x.shape[0],x.shape[0])\n",
      "    kernel = stats.gamma(shape, loc=loc, scale=scale).pdf(l)\n",
      "   \n",
      "    n = l.shape[0]\n",
      "    \n",
      "    err = y - np.convolve(kernel * a, x, mode='full')[:n]\n",
      "    \n",
      "    return err"
     ],
     "language": "python",
     "metadata": {},
     "outputs": [],
     "prompt_number": 308
    },
    {
     "cell_type": "heading",
     "level": 4,
     "metadata": {},
     "source": [
      "Use least squares to estimate time delay parameters"
     ]
    },
    {
     "cell_type": "code",
     "collapsed": false,
     "input": [
      "from scipy.optimize import leastsq\n",
      "\n",
      "ll = np.linspace(0, 100, 100)\n",
      "n = ll.shape[0]\n",
      "y_meas = np.histogram(D, ll)[0]\n",
      "\n",
      "A_sig = np.histogram(A, ll)\n",
      "x = A_sig[0]\n",
      "\n",
      "p0 = [2.0, 5.0, 2.0, 0.9]\n",
      "\n",
      "plsq = leastsq(residuals, p0, args=(y_meas, x))\n",
      "f_sh, f_loc, f_sc, a = plsq[0]\n",
      "print f_sh, f_loc, f_sc, a\n"
     ],
     "language": "python",
     "metadata": {},
     "outputs": [
      {
       "output_type": "stream",
       "stream": "stdout",
       "text": [
        "305.352821742 -53.116075738 0.238071847582 0.954355229218\n"
       ]
      }
     ],
     "prompt_number": 309
    },
    {
     "cell_type": "code",
     "collapsed": false,
     "input": [
      "l = np.linspace(0, 99, 99)\n",
      "fit = stats.gamma(f_sh, loc=f_loc, scale=f_sc).pdf(l)\n",
      "\n",
      "n = l.shape[0]\n",
      "conc = np.convolve(fit, x, mode='full')[:n]\n",
      "\n",
      "f, (a1, a2) = plt.subplots(2, 1, figsize=(10, 5), sharex=True)\n",
      "a2.plot(conc)\n",
      "a2.plot(x)\n",
      "a2.plot(y_meas)\n",
      "a1.plot(fit)"
     ],
     "language": "python",
     "metadata": {},
     "outputs": [
      {
       "metadata": {},
       "output_type": "pyout",
       "prompt_number": 310,
       "text": [
        "[<matplotlib.lines.Line2D at 0x10b635b50>]"
       ]
      },
      {
       "metadata": {},
       "output_type": "display_data",
       "png": "[encoded data removed]",
       "text": [
        "<matplotlib.figure.Figure at 0x10b1c4c10>"
       ]
      }
     ],
     "prompt_number": 310
    },
    {
     "cell_type": "heading",
     "level": 3,
     "metadata": {},
     "source": [
      "Real Time Delay Estimation"
     ]
    },
    {
     "cell_type": "code",
     "collapsed": false,
     "input": [
      "import time_delay as td"
     ],
     "language": "python",
     "metadata": {},
     "outputs": [],
     "prompt_number": 172
    },
    {
     "cell_type": "code",
     "collapsed": false,
     "input": [
      "reload(td)\n",
      "\n",
      "bhvr_sample = ((0, 1, 0.1), (0, 2, 0.6), (0, 3, 0.3), (3, 2, 1), (1, 0, 1), \\\n",
      "            (2, 1, 0.2), (2, 0, 0.7), (2, 3, 0.1))\n",
      "\n",
      "nbr_bhvrs = (bhvr_sample, bhvr_sample, bhvr_sample, bhvr_sample, bhvr_sample,)\n",
      "\n",
      "# gamm, min_time, A, B, C = generate_nbr_signals(500, 60, 1.2, 400)\n",
      "\n",
      "# for gamma\n",
      "shape = 2.0\n",
      "loc= 10.0#min_time\n",
      "scale= 2.0\n",
      "gain = 0.9\n",
      "\n",
      "edges = ((1, 3, (shape, loc, scale, gain)),(1, 3, (shape, loc, scale, gain)),\n",
      "         (1, 3, (shape, loc, scale, gain)),(1, 3, (shape, loc, scale, gain)))\n",
      "\n",
      "bins = np.linspace(0, 100, 100)\n",
      "\n",
      "\n",
      "hA = np.histogram(A, bins)\n",
      "hB = np.histogram(B, bins)\n",
      "hC = np.histogram(C, bins)\n",
      "hD = np.histogram(D, bins)[0]\n",
      "hD = np.concatenate((np.zeros(10),hD[:-10]), axis=0)\n",
      "\n",
      "tA = (np.concatenate((7*np.ones(20),np.zeros(79))),hA[1])\n",
      "tB = (tA[0]*5.0,tA[1])\n",
      "tC = (tA[0]*4.5,tA[1])\n",
      "tD = np.concatenate((np.zeros(35),8*np.ones(15),np.zeros(34)))\n",
      "\n",
      "# hO = (np.zeros(len(hA[0])), hA[1])\n",
      "\n",
      "# nbr_signals = ([tA, tB, tC], [tB, tC, tA], [tC, tA, tB],[tC, tB, tA],)\n",
      "nbr_signals = ([hA, hB, hC], [hB, hC, hA], [hC, hA, hB],[hC, hB, hA],)\n",
      "\n",
      "inlet_signal = (tD, tD, tD, tD,)\n",
      "\n",
      "n = bins.shape[0]\n",
      "y_meas = inlet_signal[0]\n",
      "x_1, x_2, x_3 = (nbr_signals[0][0][0], nbr_signals[0][1][0], \n",
      "                 nbr_signals[0][2][0])\n",
      "\n",
      "plt.plot(x_1[:50])\n",
      "plt.plot(x_2[:50])\n",
      "plt.plot(x_3[:70])\n",
      "plt.plot(y_meas[:70])\n",
      "print loc"
     ],
     "language": "python",
     "metadata": {},
     "outputs": [
      {
       "output_type": "stream",
       "stream": "stdout",
       "text": [
        "10.0\n"
       ]
      },
      {
       "metadata": {},
       "output_type": "display_data",
       "png": "[encoded data removed]",
       "text": [
        "<matplotlib.figure.Figure at 0x10d2eac90>"
       ]
      }
     ],
     "prompt_number": 412
    },
    {
     "cell_type": "code",
     "collapsed": false,
     "input": [
      "lsq_ests, lsq_time = td.estimate_time_delay(nbr_signals, nbr_bhvrs, edges, inlet_signal, 1.0)\n",
      "lshape, lloc, lscale, lgain = lsq_ests[0][2]\n",
      "\n",
      "print  lshape, lloc, lscale, lgain\n",
      "print lsq_ests[0][3]\n",
      "lsq_gamma = stats.gamma(lshape, loc=lloc, scale=lscale).pdf(bins)"
     ],
     "language": "python",
     "metadata": {},
     "outputs": [
      {
       "output_type": "stream",
       "stream": "stdout",
       "text": [
        "184.842602788 -31.3856505479 0.337157948718 1.28739882629\n",
        "[  0.    0.    0.    0.    0.    0.6   1.2   5.4   7.6   9.4  12.5  15.5\n",
        "  12.3  11.2   8.3   7.    5.    1.7   1.2   0.9   0.2   0.    0.    0.\n",
        "   0.    0.    0.    0.    0.    0.    0.    0.    0.    0.    0.    0.\n",
        "   0.    0.    0.    0.    0.    0.    0.    0.    0.    0.    0.    0.\n",
        "   0.    0.    0.    0.    0.    0.    0.    0.    0.    0.    0.    0.\n",
        "   0.    0.    0.    0.    0.    0.    0.    0.    0.    0.    0.    0.\n",
        "   0.    0.    0.    0.    0.    0.    0.    0.    0.    0.    0.    0.\n",
        "   0.    0.    0.    0.    0.    0.    0.    0.    0.    0.    0.    0.\n",
        "   0.    0.    0. ]\n"
       ]
      }
     ],
     "prompt_number": 413
    },
    {
     "cell_type": "code",
     "collapsed": false,
     "input": [
      "n = bins.shape[0]\n",
      "c_sigs = lsq_ests[0][3]\n",
      "ym = lsq_ests[0][4]\n",
      "\n",
      "conc = np.convolve(lsq_gamma * lgain, c_sigs, mode='full')[:n]\n",
      "\n",
      "f, (a1, a2) = plt.subplots(2, 1, figsize=(10, 5), sharex=True)\n",
      "a2.plot(conc)\n",
      "# plt.plot(x_1)\n",
      "# plt.plot(x_2)\n",
      "# plt.plot(x_3)\n",
      "plt.plot(c_sigs)\n",
      "# plt.plot(np.concatenate((np.zeros(10),hD[:-10]), axis=0))\n",
      "plt.plot(ym)\n",
      "a1.plot(lsq_gamma)"
     ],
     "language": "python",
     "metadata": {},
     "outputs": [
      {
       "metadata": {},
       "output_type": "pyout",
       "prompt_number": 414,
       "text": [
        "[<matplotlib.lines.Line2D at 0x10dcc7a10>]"
       ]
      },
      {
       "metadata": {},
       "output_type": "display_data",
       "png": "[encoded data removed]",
       "text": [
        "<matplotlib.figure.Figure at 0x10dbc4210>"
       ]
      }
     ],
     "prompt_number": 414
    },
    {
     "cell_type": "code",
     "collapsed": false,
     "input": [],
     "language": "python",
     "metadata": {},
     "outputs": [],
     "prompt_number": 350
    },
    {
     "cell_type": "code",
     "collapsed": false,
     "input": [],
     "language": "python",
     "metadata": {},
     "outputs": [],
     "prompt_number": 350
    },
    {
     "cell_type": "code",
     "collapsed": false,
     "input": [],
     "language": "python",
     "metadata": {},
     "outputs": [],
     "prompt_number": 149
    },
    {
     "cell_type": "code",
     "collapsed": false,
     "input": [],
     "language": "python",
     "metadata": {},
     "outputs": [],
     "prompt_number": 149
    },
    {
     "cell_type": "code",
     "collapsed": false,
     "input": [],
     "language": "python",
     "metadata": {},
     "outputs": [],
     "prompt_number": 149
    },
    {
     "cell_type": "code",
     "collapsed": false,
     "input": [],
     "language": "python",
     "metadata": {},
     "outputs": []
    }
   ],
   "metadata": {}
  }
 ]
}