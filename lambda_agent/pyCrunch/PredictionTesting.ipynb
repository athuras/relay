{
 "metadata": {
  "name": ""
 },
 "nbformat": 3,
 "nbformat_minor": 0,
 "worksheets": [
  {
   "cells": [
    {
     "cell_type": "code",
     "collapsed": false,
     "input": [
      "%pylab --no-import-all inline"
     ],
     "language": "python",
     "metadata": {},
     "outputs": [
      {
       "output_type": "stream",
       "stream": "stdout",
       "text": [
        "Populating the interactive namespace from numpy and matplotlib\n"
       ]
      }
     ],
     "prompt_number": 136
    },
    {
     "cell_type": "code",
     "collapsed": false,
     "input": [
      "import predictions as pr\n",
      "import prediction_helpers as prh\n",
      "import numpy as np\n",
      "from scipy import stats\n",
      "import matplotlib\n",
      "import matplotlib.pyplot as plt\n"
     ],
     "language": "python",
     "metadata": {},
     "outputs": [],
     "prompt_number": 137
    },
    {
     "cell_type": "code",
     "collapsed": false,
     "input": [
      "def generate_nbr_signals(distance, speed_limit, fast_coeff, amount):\n",
      "    '''\n",
      "    generate set of signals\n",
      "    * distance: In meters, the length of the edge/road\n",
      "    * speed_limit: in km/h\n",
      "    * fast_coeff: how much faster than the speed limit we \n",
      "        want to allow, typically 1.2\n",
      "    * amount: the number of samples to generate\n",
      "    '''\n",
      "    min_time = distance / (fast_coeff * speed_limit / 3.6)\n",
      "    G = stats.gamma(3, loc=min_time, scale=4)\n",
      "    #x = np.linspace(1, 6*amount, 6*amount)\n",
      "    #sqr = signal.square(5 * np.pi * x)\n",
      "    #sig = np.sin(3 * np.pi * x)\n",
      "    #pwm = signal.square(5 * np.pi * x, duty=(sig + 1) / 4)\n",
      "    \n",
      "    sample = stats.foldnorm(1, scale=3)\n",
      "    \n",
      "    A = sample.rvs(100)#np.where(pwm == 1)[0]\n",
      "    \n",
      "    # Noise\n",
      "    n1 = stats.foldnorm(1, scale=2)\n",
      "    n2 = stats.foldnorm(1, loc=5, scale=1)\n",
      "    noise = n1.rvs(size=A.size) + n2.rvs(size=A.size)\n",
      "    \n",
      "    #lag = G.rvs(size=A.size)\n",
      "    C = A + 2.2 * noise\n",
      "    B = A + 3.0 * noise\n",
      "    A = A + noise\n",
      "    u = B.mean() - A.mean()\n",
      "    s = (A.std() + B.std()) / 2 \n",
      "    a = A#[(A >= u - 2 * s) & (A <= u + 2 * s)]\n",
      "    b = B#[(B >= u - 2 * s) & (B <= u + 2 * s)]\n",
      "    c = C\n",
      "    \n",
      "    # minslice\n",
      "    q = min(a.size, b.size, c.size, amount)\n",
      "    return G, min_time, a[:q], b[:q], c[:q]"
     ],
     "language": "python",
     "metadata": {},
     "outputs": [],
     "prompt_number": 138
    },
    {
     "cell_type": "heading",
     "level": 3,
     "metadata": {},
     "source": [
      "Generating Predicitons"
     ]
    },
    {
     "cell_type": "heading",
     "level": 4,
     "metadata": {},
     "source": [
      "Setting up data for running prediction"
     ]
    },
    {
     "cell_type": "code",
     "collapsed": false,
     "input": [
      "bhvr_sample = (((0, 1, 0.1), (0, 2, 0.6), (0, 3, 0.3), (3, 2, 1), (1, 0, 1), \\\n",
      "            (2, 1, 0.2), (2, 0, 0.7), (2, 3, 0.1)),)\n",
      "\n",
      "gamm, min_time, A, B, C = generate_nbr_signals(1000, 60, 1.2, 400)\n",
      "\n",
      "# for gamma\n",
      "shape = 3\n",
      "loc=min_time\n",
      "scale=4\n",
      "\n",
      "edges = ((1, 3, (shape, loc, scale)),)\n",
      "\n",
      "bins = np.linspace(0, 100, 100)\n",
      "nbr_signals = ([np.histogram(A, bins), np.histogram(B, bins), np.histogram(C, bins)],)"
     ],
     "language": "python",
     "metadata": {},
     "outputs": [],
     "prompt_number": 164
    },
    {
     "cell_type": "heading",
     "level": 4,
     "metadata": {},
     "source": [
      "Test to ensure each function works as expected"
     ]
    },
    {
     "cell_type": "code",
     "collapsed": false,
     "input": [
      "bhvrs = [prh.create_bhvr_prob_mtx(b) for b in bhvr_sample]\n",
      "out_probs = prh.extract_probs(edges[0][1], bhvrs[0])\n",
      "trans_sigs = prh.transform_sigs(nbr_signals[0], out_probs)\n",
      "comb_sig = prh.combine_sig_ests(trans_sigs)"
     ],
     "language": "python",
     "metadata": {},
     "outputs": [],
     "prompt_number": 165
    },
    {
     "cell_type": "heading",
     "level": 4,
     "metadata": {},
     "source": [
      "Generate a prediction"
     ]
    },
    {
     "cell_type": "code",
     "collapsed": false,
     "input": [
      "prediction, pred_time = pr.gen_prediction(nbr_signals, bhvr_sample, edges)\n",
      "plt.plot(prediction[0])\n",
      "\n",
      "#SWANGING\n",
      "#EYESCLOSED\n",
      "#wowitactuallyworks"
     ],
     "language": "python",
     "metadata": {},
     "outputs": [
      {
       "metadata": {},
       "output_type": "pyout",
       "prompt_number": 166,
       "text": [
        "[<matplotlib.lines.Line2D at 0x1091503d0>]"
       ]
      },
      {
       "metadata": {},
       "output_type": "display_data",
       "png": "[encoded data removed]",
       "text": [
        "<matplotlib.figure.Figure at 0x108f30b10>"
       ]
      }
     ],
     "prompt_number": 166
    },
    {
     "cell_type": "heading",
     "level": 3,
     "metadata": {},
     "source": [
      "Time Delay Estimation"
     ]
    },
    {
     "cell_type": "code",
     "collapsed": false,
     "input": [
      "def residuals(p, y, x):\n",
      "    shape, loc, scale, a = p\n",
      "    \n",
      "    l=np.linspace(0,x.shape[0],x.shape[0])\n",
      "    kernel = stats.gamma(shape, loc=loc, scale=scale).pdf(l)\n",
      "   \n",
      "    n = l.shape[0]\n",
      "    \n",
      "    err = y - np.convolve(kernel * a, x, mode='full')[:n]\n",
      "    \n",
      "    return err"
     ],
     "language": "python",
     "metadata": {},
     "outputs": [],
     "prompt_number": 167
    },
    {
     "cell_type": "heading",
     "level": 4,
     "metadata": {},
     "source": [
      "Use least squares to estimate time delay parameters"
     ]
    },
    {
     "cell_type": "code",
     "collapsed": false,
     "input": [
      "from scipy.optimize import leastsq\n",
      "\n",
      "ll = np.linspace(0, 100, 100)\n",
      "n = ll.shape[0]\n",
      "y_meas = np.histogram(B, ll)[0]\n",
      "\n",
      "A_sig = np.histogram(A, ll)\n",
      "x = A_sig[0]\n",
      "\n",
      "p0 = [2.0, 5.0, 2.0, 0.9]\n",
      "\n",
      "plsq = leastsq(residuals, p0, args=(y_meas, x))\n",
      "f_sh, f_loc, f_sc, a = plsq[0]\n",
      "print f_sh, f_loc, f_sc, a\n"
     ],
     "language": "python",
     "metadata": {},
     "outputs": [
      {
       "output_type": "stream",
       "stream": "stdout",
       "text": [
        "510.577613929 -102.314907328 0.233809893966 1.05318280378\n"
       ]
      }
     ],
     "prompt_number": 170
    },
    {
     "cell_type": "code",
     "collapsed": false,
     "input": [
      "l = np.linspace(0, 99, 99)\n",
      "fit = stats.gamma(f_sh, loc=f_loc, scale=f_sc).pdf(l)\n",
      "\n",
      "n = l.shape[0]\n",
      "conc = np.convolve(fit, x, mode='full')[:n]\n",
      "\n",
      "f, (a1, a2) = plt.subplots(2, 1, figsize=(10, 5), sharex=True)\n",
      "a2.plot(conc)\n",
      "a2.plot(x)\n",
      "a2.plot(y_meas)\n",
      "a1.plot(fit)"
     ],
     "language": "python",
     "metadata": {},
     "outputs": [
      {
       "metadata": {},
       "output_type": "pyout",
       "prompt_number": 171,
       "text": [
        "[<matplotlib.lines.Line2D at 0x109819410>]"
       ]
      },
      {
       "metadata": {},
       "output_type": "display_data",
       "png": "[encoded data removed]",
       "text": [
        "<matplotlib.figure.Figure at 0x109630e90>"
       ]
      }
     ],
     "prompt_number": 171
    },
    {
     "cell_type": "heading",
     "level": 3,
     "metadata": {},
     "source": [
      "Real Time Delay Estimation"
     ]
    },
    {
     "cell_type": "code",
     "collapsed": false,
     "input": [
      "import time_delay as td"
     ],
     "language": "python",
     "metadata": {},
     "outputs": [],
     "prompt_number": 172
    },
    {
     "cell_type": "code",
     "collapsed": false,
     "input": [
      "reload(td)\n",
      "\n",
      "bhvr_sample = (((0, 1, 0.1), (0, 2, 0.6), (0, 3, 0.3), (3, 2, 1), (1, 0, 1), \\\n",
      "            (2, 1, 0.2), (2, 0, 0.7), (2, 3, 0.1)),)\n",
      "\n",
      "# gamm, min_time, A, B, C = generate_nbr_signals(500, 60, 1.2, 400)\n",
      "\n",
      "# for gamma\n",
      "shape = 2.0\n",
      "loc= 5.0#min_time\n",
      "scale= 2.0\n",
      "gain = 0.9\n",
      "\n",
      "edges = ((1, 3, (shape, loc, scale, gain)),)\n",
      "\n",
      "bins = np.linspace(0, 100, 100)\n",
      "hA = np.histogram(A, bins)\n",
      "hO = (np.zeros(len(hA[0])), hA[1])\n",
      "nbr_signals = ([hA, hO, hO],)\n",
      "\n",
      "inlet_signal = np.histogram(B, bins)\n",
      "\n",
      "n = bins.shape[0]\n",
      "y_meas = inlet_signal[0]\n",
      "x = nbr_signals[0][0][0]\n",
      "\n",
      "plt.plot(x[:50])\n",
      "plt.plot(y_meas[:50])\n",
      "print loc"
     ],
     "language": "python",
     "metadata": {},
     "outputs": [
      {
       "output_type": "stream",
       "stream": "stdout",
       "text": [
        "5.0\n"
       ]
      },
      {
       "metadata": {},
       "output_type": "display_data",
       "png": "[encoded data removed]",
       "text": [
        "<matplotlib.figure.Figure at 0x109da7350>"
       ]
      }
     ],
     "prompt_number": 188
    },
    {
     "cell_type": "code",
     "collapsed": false,
     "input": [
      "lsq_ests, lsq_time = td.estimate_time_delay(nbr_signals, bhvr_sample, edges,\n",
      "                                            inlet_signal, 1.0)\n",
      "lshape, lloc, lscale, lgain = lsq_ests[0][2]\n",
      "print lshape, lloc, lscale, lgain\n",
      "\n",
      "lsq_gamma = stats.gamma(lshape, loc=lloc, scale=lscale).pdf(bins)"
     ],
     "language": "python",
     "metadata": {},
     "outputs": [
      {
       "output_type": "stream",
       "stream": "stdout",
       "text": [
        "59.2883614449 -5.20993100145 0.373139600248 0.900000006881\n"
       ]
      }
     ],
     "prompt_number": 189
    },
    {
     "cell_type": "code",
     "collapsed": false,
     "input": [
      "n = bins.shape[0]\n",
      "conc = np.convolve(lsq_gamma, x, mode='full')[:n]\n",
      "\n",
      "f, (a1, a2) = plt.subplots(2, 1, figsize=(10, 5), sharex=True)\n",
      "a2.plot(conc)\n",
      "plt.plot(x)\n",
      "plt.plot(y_meas)\n",
      "a1.plot(lsq_gamma)"
     ],
     "language": "python",
     "metadata": {},
     "outputs": [
      {
       "metadata": {},
       "output_type": "pyout",
       "prompt_number": 190,
       "text": [
        "[<matplotlib.lines.Line2D at 0x10a04d210>]"
       ]
      },
      {
       "metadata": {},
       "output_type": "display_data",
       "png": "[encoded data removed]",
       "text": [
        "<matplotlib.figure.Figure at 0x109caf410>"
       ]
      }
     ],
     "prompt_number": 190
    },
    {
     "cell_type": "code",
     "collapsed": false,
     "input": [],
     "language": "python",
     "metadata": {},
     "outputs": [],
     "prompt_number": 175
    },
    {
     "cell_type": "code",
     "collapsed": false,
     "input": [],
     "language": "python",
     "metadata": {},
     "outputs": [],
     "prompt_number": 158
    },
    {
     "cell_type": "code",
     "collapsed": false,
     "input": [],
     "language": "python",
     "metadata": {},
     "outputs": [],
     "prompt_number": 149
    },
    {
     "cell_type": "code",
     "collapsed": false,
     "input": [],
     "language": "python",
     "metadata": {},
     "outputs": [],
     "prompt_number": 149
    },
    {
     "cell_type": "code",
     "collapsed": false,
     "input": [],
     "language": "python",
     "metadata": {},
     "outputs": [],
     "prompt_number": 149
    },
    {
     "cell_type": "code",
     "collapsed": false,
     "input": [],
     "language": "python",
     "metadata": {},
     "outputs": []
    }
   ],
   "metadata": {}
  }
 ]
}