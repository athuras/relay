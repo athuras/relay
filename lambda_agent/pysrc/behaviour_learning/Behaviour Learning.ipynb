{
 "metadata": {
  "name": ""
 },
 "nbformat": 3,
 "nbformat_minor": 0,
 "worksheets": [
  {
   "cells": [
    {
     "cell_type": "code",
     "collapsed": false,
     "input": [
      "%pylab --no-import-all inline"
     ],
     "language": "python",
     "metadata": {},
     "outputs": [
      {
       "output_type": "stream",
       "stream": "stdout",
       "text": [
        "Populating the interactive namespace from numpy and matplotlib\n"
       ]
      }
     ],
     "prompt_number": 123
    },
    {
     "cell_type": "code",
     "collapsed": false,
     "input": [
      "import itertools\n",
      "from collections import Counter\n",
      "import numpy as np\n",
      "from scipy import stats\n",
      "from scipy import optimize\n",
      "import matplotlib\n",
      "import matplotlib.pyplot as plt"
     ],
     "language": "python",
     "metadata": {},
     "outputs": [],
     "prompt_number": 207
    },
    {
     "cell_type": "code",
     "collapsed": false,
     "input": [
      "bhvr_past = ((0, 1, 0.1), (0, 2, 0.6), (0, 3, 0.3), (3, 2, 1), (1, 0, 1), (2, 1, 0.2), (2, 0, 0.7), (2, 3, 0.1))"
     ],
     "language": "python",
     "metadata": {},
     "outputs": [],
     "prompt_number": 3
    },
    {
     "cell_type": "code",
     "collapsed": false,
     "input": [
      "secondary_nodes = [k for k, v in Counter(item[0] for item in bhvr_past).iteritems() if v == 1]"
     ],
     "language": "python",
     "metadata": {},
     "outputs": [],
     "prompt_number": 4
    },
    {
     "cell_type": "code",
     "collapsed": false,
     "input": [
      "bhvr_second = [item for item in bhvr_past if item[0] in secondary_nodes]\n",
      "bhvr_second"
     ],
     "language": "python",
     "metadata": {},
     "outputs": [
      {
       "metadata": {},
       "output_type": "pyout",
       "prompt_number": 5,
       "text": [
        "[(3, 2, 1), (1, 0, 1)]"
       ]
      }
     ],
     "prompt_number": 5
    },
    {
     "cell_type": "code",
     "collapsed": false,
     "input": [
      "# stuff\n",
      "bhvr_arr = np.zeros([4,4])\n",
      "for item in bhvr_past:\n",
      "    bhvr_arr[item[0],item[1]] = item[2]\n",
      "\n",
      "(bhvr_arr > 0) * 1.0"
     ],
     "language": "python",
     "metadata": {},
     "outputs": [
      {
       "metadata": {},
       "output_type": "pyout",
       "prompt_number": 6,
       "text": [
        "array([[ 0.,  1.,  1.,  1.],\n",
        "       [ 1.,  0.,  0.,  0.],\n",
        "       [ 1.,  1.,  0.,  1.],\n",
        "       [ 0.,  0.,  1.,  0.]])"
       ]
      }
     ],
     "prompt_number": 6
    },
    {
     "cell_type": "code",
     "collapsed": false,
     "input": [
      "counts = ((0, 10.0), (1, 2.0), (2, 9.0), (3, 4.0))\n",
      "counts_arr = np.array([item[1] for item in counts])\n",
      "#counts_arr = np.array(counts_arr)"
     ],
     "language": "python",
     "metadata": {},
     "outputs": [],
     "prompt_number": 7
    },
    {
     "cell_type": "code",
     "collapsed": false,
     "input": [
      "est_outs_arr = (bhvr_arr.T * counts_arr).T\n",
      "est_outs_arr"
     ],
     "language": "python",
     "metadata": {},
     "outputs": [
      {
       "metadata": {},
       "output_type": "pyout",
       "prompt_number": 8,
       "text": [
        "array([[ 0. ,  1. ,  6. ,  3. ],\n",
        "       [ 2. ,  0. ,  0. ,  0. ],\n",
        "       [ 6.3,  1.8,  0. ,  0.9],\n",
        "       [ 0. ,  0. ,  4. ,  0. ]])"
       ]
      }
     ],
     "prompt_number": 8
    },
    {
     "cell_type": "code",
     "collapsed": false,
     "input": [
      "nbr_counts = ((0, 8.0), (1, 4.0), (2, 9.0), (3, 4.0))\n",
      "nbr_arr = [item[1] for item in nbr_counts]\n",
      "nbr_arr = np.array(nbr_arr)\n",
      "nbr_arr"
     ],
     "language": "python",
     "metadata": {},
     "outputs": [
      {
       "metadata": {},
       "output_type": "pyout",
       "prompt_number": 9,
       "text": [
        "array([ 8.,  4.,  9.,  4.])"
       ]
      }
     ],
     "prompt_number": 9
    },
    {
     "cell_type": "code",
     "collapsed": false,
     "input": [
      "prediction_err = est_outs_arr.sum(axis=0) - nbr_arr\n",
      "prediction_err"
     ],
     "language": "python",
     "metadata": {},
     "outputs": [
      {
       "metadata": {},
       "output_type": "pyout",
       "prompt_number": 10,
       "text": [
        "array([ 0.3, -1.2,  1. , -0.1])"
       ]
      }
     ],
     "prompt_number": 10
    },
    {
     "cell_type": "code",
     "collapsed": false,
     "input": [
      "def remove_secondary_effects(bhvr_arr, counts, nbr_counts):\n",
      "    # removes counts from \"secondary\" (one inlet-outlet) nodes in neighbor counts\n",
      "    new_nbr_counts = np.copy(nbr_counts)\n",
      "    \n",
      "    scnd_in, scnd_out = np.where(bhvr_arr==1.0)\n",
      "    \n",
      "    for i in range(len(scnd_in)):\n",
      "        new_nbr_counts[scnd_out[i]] = nbr_counts[scnd_out[i]] - counts[scnd_in[i]]\n",
      "    \n",
      "    return new_nbr_counts"
     ],
     "language": "python",
     "metadata": {},
     "outputs": [],
     "prompt_number": 11
    },
    {
     "cell_type": "code",
     "collapsed": false,
     "input": [
      "def update_probs(bhvr_arr, counts, nbr_counts):\n",
      "    alpha = 0.2\n",
      "    Q_new = construct_new_bhvr(bhvr_arr, counts, nbr_counts) \n",
      "    Q = (1-alpha) * bhvr_arr + alpha \\\n",
      "        * Q_new\n",
      "    return Q"
     ],
     "language": "python",
     "metadata": {},
     "outputs": [],
     "prompt_number": 12
    },
    {
     "cell_type": "code",
     "collapsed": false,
     "input": [
      "def allowable_paths(bhvr_arr):\n",
      "    return (bhvr_arr > 0.0)"
     ],
     "language": "python",
     "metadata": {},
     "outputs": [],
     "prompt_number": 13
    },
    {
     "cell_type": "code",
     "collapsed": false,
     "input": [
      "def construct_new_bhvr(bhvr_arr, counts, nbr_counts):\n",
      "    new_bhvr_arr = [nbr_counts / i for i in counts] * allowable_paths(bhvr_arr)\n",
      "    new_bhvr_arr[new_bhvr_arr >= 1] = 1\n",
      "    return new_bhvr_arr"
     ],
     "language": "python",
     "metadata": {},
     "outputs": [],
     "prompt_number": 14
    },
    {
     "cell_type": "code",
     "collapsed": false,
     "input": [
      "#allowable_paths(bhvr_arr)*1\n",
      "#np.vstack([nbr_arr / i for i in counts_arr])\n",
      "new_nbr_arr = remove_secondary_effects(bhvr_arr, counts_arr, nbr_arr)\n",
      "new_nbr_arr"
     ],
     "language": "python",
     "metadata": {},
     "outputs": [
      {
       "metadata": {},
       "output_type": "pyout",
       "prompt_number": 15,
       "text": [
        "array([ 6.,  4.,  5.,  4.])"
       ]
      }
     ],
     "prompt_number": 15
    },
    {
     "cell_type": "code",
     "collapsed": false,
     "input": [
      "construct_new_bhvr(bhvr_arr, counts_arr, new_nbr_arr)"
     ],
     "language": "python",
     "metadata": {},
     "outputs": [
      {
       "metadata": {},
       "output_type": "pyout",
       "prompt_number": 16,
       "text": [
        "array([[ 0.        ,  0.4       ,  0.5       ,  0.4       ],\n",
        "       [ 1.        ,  0.        ,  0.        ,  0.        ],\n",
        "       [ 0.66666667,  0.44444444,  0.        ,  0.44444444],\n",
        "       [ 0.        ,  0.        ,  1.        ,  0.        ]])"
       ]
      }
     ],
     "prompt_number": 16
    },
    {
     "cell_type": "code",
     "collapsed": false,
     "input": [
      "update_probs(bhvr_arr, counts_arr, new_nbr_arr)"
     ],
     "language": "python",
     "metadata": {},
     "outputs": [
      {
       "metadata": {},
       "output_type": "pyout",
       "prompt_number": 17,
       "text": [
        "array([[ 0.        ,  0.16      ,  0.58      ,  0.32      ],\n",
        "       [ 1.        ,  0.        ,  0.        ,  0.        ],\n",
        "       [ 0.69333333,  0.24888889,  0.        ,  0.16888889],\n",
        "       [ 0.        ,  0.        ,  1.        ,  0.        ]])"
       ]
      }
     ],
     "prompt_number": 17
    },
    {
     "cell_type": "code",
     "collapsed": false,
     "input": [
      "bhvr_arr"
     ],
     "language": "python",
     "metadata": {},
     "outputs": [
      {
       "metadata": {},
       "output_type": "pyout",
       "prompt_number": 18,
       "text": [
        "array([[ 0. ,  0.1,  0.6,  0.3],\n",
        "       [ 1. ,  0. ,  0. ,  0. ],\n",
        "       [ 0.7,  0.2,  0. ,  0.1],\n",
        "       [ 0. ,  0. ,  1. ,  0. ]])"
       ]
      }
     ],
     "prompt_number": 18
    },
    {
     "cell_type": "code",
     "collapsed": false,
     "input": [
      "bhvr_arr[:,0]"
     ],
     "language": "python",
     "metadata": {},
     "outputs": [
      {
       "metadata": {},
       "output_type": "pyout",
       "prompt_number": 19,
       "text": [
        "array([ 0. ,  1. ,  0.7,  0. ])"
       ]
      }
     ],
     "prompt_number": 19
    },
    {
     "cell_type": "code",
     "collapsed": false,
     "input": [
      "####### USING OPTIMIZATION TECHNIQUES #######\n",
      "  \n",
      "x = counts_arr\n",
      "#p = bhvr_arr\n",
      "y_true = nbr_counts[0]\n",
      "y_est = ((bhvr_arr[:,0].T * counts_arr)).sum()\n",
      "p0 = bhvr_arr[:,0]\n",
      "y_est"
     ],
     "language": "python",
     "metadata": {},
     "outputs": [
      {
       "metadata": {},
       "output_type": "pyout",
       "prompt_number": 20,
       "text": [
        "8.3000000000000007"
       ]
      }
     ],
     "prompt_number": 20
    },
    {
     "cell_type": "code",
     "collapsed": false,
     "input": [
      "def residuals(p, y, x):\n",
      "    err = y - ((p.T * x)).sum()\n",
      "    return err"
     ],
     "language": "python",
     "metadata": {},
     "outputs": [],
     "prompt_number": 21
    },
    {
     "cell_type": "code",
     "collapsed": false,
     "input": [
      "#def peval(x, p):\n",
      "  #  return (p.T * x).T"
     ],
     "language": "python",
     "metadata": {},
     "outputs": [],
     "prompt_number": 22
    },
    {
     "cell_type": "code",
     "collapsed": false,
     "input": [
      "from scipy.optimize import leastsq, minimize\n",
      "plsq = leastsq(residuals, p0, args=(y_est, x))\n",
      "plsq[0]"
     ],
     "language": "python",
     "metadata": {},
     "outputs": [
      {
       "ename": "TypeError",
       "evalue": "Improper input: N=4 must not exceed M=1",
       "output_type": "pyerr",
       "traceback": [
        "\u001b[0;31m---------------------------------------------------------------------------\u001b[0m\n\u001b[0;31mTypeError\u001b[0m                                 Traceback (most recent call last)",
        "\u001b[0;32m<ipython-input-23-718484071b94>\u001b[0m in \u001b[0;36m<module>\u001b[0;34m()\u001b[0m\n\u001b[1;32m      1\u001b[0m \u001b[0;32mfrom\u001b[0m \u001b[0mscipy\u001b[0m\u001b[0;34m.\u001b[0m\u001b[0moptimize\u001b[0m \u001b[0;32mimport\u001b[0m \u001b[0mleastsq\u001b[0m\u001b[0;34m,\u001b[0m \u001b[0mminimize\u001b[0m\u001b[0;34m\u001b[0m\u001b[0m\n\u001b[0;32m----> 2\u001b[0;31m \u001b[0mplsq\u001b[0m \u001b[0;34m=\u001b[0m \u001b[0mleastsq\u001b[0m\u001b[0;34m(\u001b[0m\u001b[0mresiduals\u001b[0m\u001b[0;34m,\u001b[0m \u001b[0mp0\u001b[0m\u001b[0;34m,\u001b[0m \u001b[0margs\u001b[0m\u001b[0;34m=\u001b[0m\u001b[0;34m(\u001b[0m\u001b[0my_est\u001b[0m\u001b[0;34m,\u001b[0m \u001b[0mx\u001b[0m\u001b[0;34m)\u001b[0m\u001b[0;34m)\u001b[0m\u001b[0;34m\u001b[0m\u001b[0m\n\u001b[0m\u001b[1;32m      3\u001b[0m \u001b[0mplsq\u001b[0m\u001b[0;34m[\u001b[0m\u001b[0;36m0\u001b[0m\u001b[0;34m]\u001b[0m\u001b[0;34m\u001b[0m\u001b[0m\n",
        "\u001b[0;32m/usr/local/lib/python2.7/site-packages/scipy/optimize/minpack.pyc\u001b[0m in \u001b[0;36mleastsq\u001b[0;34m(func, x0, args, Dfun, full_output, col_deriv, ftol, xtol, gtol, maxfev, epsfcn, factor, diag)\u001b[0m\n\u001b[1;32m    355\u001b[0m     \u001b[0mm\u001b[0m \u001b[0;34m=\u001b[0m \u001b[0mshape\u001b[0m\u001b[0;34m[\u001b[0m\u001b[0;36m0\u001b[0m\u001b[0;34m]\u001b[0m\u001b[0;34m\u001b[0m\u001b[0m\n\u001b[1;32m    356\u001b[0m     \u001b[0;32mif\u001b[0m \u001b[0mn\u001b[0m \u001b[0;34m>\u001b[0m \u001b[0mm\u001b[0m\u001b[0;34m:\u001b[0m\u001b[0;34m\u001b[0m\u001b[0m\n\u001b[0;32m--> 357\u001b[0;31m         \u001b[0;32mraise\u001b[0m \u001b[0mTypeError\u001b[0m\u001b[0;34m(\u001b[0m\u001b[0;34m'Improper input: N=%s must not exceed M=%s'\u001b[0m \u001b[0;34m%\u001b[0m \u001b[0;34m(\u001b[0m\u001b[0mn\u001b[0m\u001b[0;34m,\u001b[0m\u001b[0mm\u001b[0m\u001b[0;34m)\u001b[0m\u001b[0;34m)\u001b[0m\u001b[0;34m\u001b[0m\u001b[0m\n\u001b[0m\u001b[1;32m    358\u001b[0m     \u001b[0;32mif\u001b[0m \u001b[0mepsfcn\u001b[0m \u001b[0;32mis\u001b[0m \u001b[0mNone\u001b[0m\u001b[0;34m:\u001b[0m\u001b[0;34m\u001b[0m\u001b[0m\n\u001b[1;32m    359\u001b[0m         \u001b[0mepsfcn\u001b[0m \u001b[0;34m=\u001b[0m \u001b[0msqrt\u001b[0m\u001b[0;34m(\u001b[0m\u001b[0mfinfo\u001b[0m\u001b[0;34m(\u001b[0m\u001b[0mdtype\u001b[0m\u001b[0;34m)\u001b[0m\u001b[0;34m.\u001b[0m\u001b[0meps\u001b[0m\u001b[0;34m)\u001b[0m\u001b[0;34m\u001b[0m\u001b[0m\n",
        "\u001b[0;31mTypeError\u001b[0m: Improper input: N=4 must not exceed M=1"
       ]
      }
     ],
     "prompt_number": 23
    },
    {
     "cell_type": "code",
     "collapsed": false,
     "input": [
      "((bhvr_arr > 0).T * counts_arr).T"
     ],
     "language": "python",
     "metadata": {},
     "outputs": []
    },
    {
     "cell_type": "code",
     "collapsed": false,
     "input": [
      "(bhvr_arr.T * counts_arr)"
     ],
     "language": "python",
     "metadata": {},
     "outputs": []
    },
    {
     "cell_type": "code",
     "collapsed": false,
     "input": [
      "def func(x, d, c):\n",
      "    return (d - ((x.T * c)).sum())**2"
     ],
     "language": "python",
     "metadata": {},
     "outputs": []
    },
    {
     "cell_type": "code",
     "collapsed": false,
     "input": [
      "def func_deriv(x, d, c):\n",
      "    return 2*(d - ((x.T * c)).sum())*-((x > 0).T * c)"
     ],
     "language": "python",
     "metadata": {},
     "outputs": [],
     "prompt_number": 24
    },
    {
     "cell_type": "code",
     "collapsed": false,
     "input": [
      "# def create_cons(b):\n",
      "#     for p in b:\n",
      "#         ineq = {'fun': lambda x: np.array(x[0]),\n",
      "#                 'jac': lambda x: np.array(\n",
      "# cons = []\n",
      "# for i in range(4):\n",
      "#     zrs = np.zeros(4)\n",
      "#     zrs[i] = 1.0\n",
      "#     con = {'type': 'ineq',\n",
      "#              'fun': lambda x: np.array([x[i]]),\n",
      "#              'jac': lambda x: np.array(zrs)}\n",
      "#     con2 = {'type': 'ineq',\n",
      "#              'fun': lambda x: np.array([1 - x[i]]),\n",
      "#              'jac': lambda x: np.array(zrs)}\n",
      "#     cons.append(con), cons.append(con2)\n",
      "\n",
      "cons = ({'type': 'ineq',\n",
      "         'fun': lambda x: np.array([x[0]]),\n",
      "         'jac': lambda x: np.array([1.0, 0.0, 0.0, 0.0])},\n",
      "        {'type': 'ineq',\n",
      "         'fun': lambda x: np.array([x[1]]),\n",
      "         'jac': lambda x: np.array([0.0, 1.0, 0.0, 0.0])},\n",
      "        {'type': 'ineq',\n",
      "         'fun': lambda x: np.array([x[2]]),\n",
      "         'jac': lambda x: np.array([0.0, 0.0, 1.0, 0.0])},\n",
      "        {'type': 'ineq',\n",
      "         'fun': lambda x: np.array([x[3]]),\n",
      "         'jac': lambda x: np.array([0.0, 0.0, 0.0, 1.0])},\n",
      "        {'type': 'ineq',\n",
      "         'fun': lambda x: np.array([1 - x[0]]),\n",
      "         'jac': lambda x: np.array([1.0, 0.0, 0.0, 0.0])},\n",
      "        {'type': 'ineq',\n",
      "         'fun': lambda x: np.array([1 - x[1]]),\n",
      "         'jac': lambda x: np.array([0.0, 1.0, 0.0, 0.0])},\n",
      "        {'type': 'ineq',\n",
      "         'fun': lambda x: np.array([1 - x[2]]),\n",
      "         'jac': lambda x: np.array([0.0, 0.0, 1.0, 0.0])},\n",
      "        {'type': 'ineq',\n",
      "         'fun': lambda x: np.array([1 - x[3]]),\n",
      "         'jac': lambda x: np.array([0.0, 0.0, 0.0, 1.0])\n",
      "         })"
     ],
     "language": "python",
     "metadata": {},
     "outputs": [],
     "prompt_number": 25
    },
    {
     "cell_type": "code",
     "collapsed": false,
     "input": [
      "# constraints don't seem to be doing anything -> answer is outside these constraints\n",
      "bhvr_past2 = ((0, 1, 0.6), (0, 2, 0.1), (0, 3, 0.3), (3, 2, 1), (1, 0, 1), (2, 1, 0.2), (2, 0, 0.7), (2, 3, 0.1))\n",
      "bhvr_arr2 = np.zeros([4,4])\n",
      "for item in bhvr_past2:\n",
      "    bhvr_arr2[item[0],item[1]] = item[2]\n",
      "\n",
      "for i in range(len(nbr_arr)):\n",
      "    res[i] = minimize(func, bhvr_arr2[:,i], args=(nbr_arr[i], counts_arr,), jac=func_deriv,\n",
      "                   constraints=cons, method='SLSQP', options={'disp': True})\n",
      "# res = minimize(func, bhvr_arr[:,0], args=(nbr_arr[0], counts_arr,), jac=func_deriv, \n",
      "#                method='SLSQP', options={'disp': True})"
     ],
     "language": "python",
     "metadata": {},
     "outputs": [
      {
       "ename": "NameError",
       "evalue": "name 'func' is not defined",
       "output_type": "pyerr",
       "traceback": [
        "\u001b[0;31m---------------------------------------------------------------------------\u001b[0m\n\u001b[0;31mNameError\u001b[0m                                 Traceback (most recent call last)",
        "\u001b[0;32m<ipython-input-26-4ad20a5cc9ce>\u001b[0m in \u001b[0;36m<module>\u001b[0;34m()\u001b[0m\n\u001b[1;32m      6\u001b[0m \u001b[0;34m\u001b[0m\u001b[0m\n\u001b[1;32m      7\u001b[0m \u001b[0;32mfor\u001b[0m \u001b[0mi\u001b[0m \u001b[0;32min\u001b[0m \u001b[0mrange\u001b[0m\u001b[0;34m(\u001b[0m\u001b[0mlen\u001b[0m\u001b[0;34m(\u001b[0m\u001b[0mnbr_arr\u001b[0m\u001b[0;34m)\u001b[0m\u001b[0;34m)\u001b[0m\u001b[0;34m:\u001b[0m\u001b[0;34m\u001b[0m\u001b[0m\n\u001b[0;32m----> 8\u001b[0;31m     res[i] = minimize(func, bhvr_arr2[:,i], args=(nbr_arr[i], counts_arr,), jac=func_deriv,\n\u001b[0m\u001b[1;32m      9\u001b[0m                    constraints=cons, method='SLSQP', options={'disp': True})\n\u001b[1;32m     10\u001b[0m \u001b[0;31m# res = minimize(func, bhvr_arr[:,0], args=(nbr_arr[0], counts_arr,), jac=func_deriv,\u001b[0m\u001b[0;34m\u001b[0m\u001b[0;34m\u001b[0m\u001b[0m\n",
        "\u001b[0;31mNameError\u001b[0m: name 'func' is not defined"
       ]
      }
     ],
     "prompt_number": 26
    },
    {
     "cell_type": "code",
     "collapsed": false,
     "input": [
      "ress = np.round(np.array([res[0].x, res[1].x, res[2].x, res[3].x]), 3)\n",
      "ress.T, bhvr_arr, ress.sum(axis=0)"
     ],
     "language": "python",
     "metadata": {},
     "outputs": [
      {
       "ename": "NameError",
       "evalue": "name 'res' is not defined",
       "output_type": "pyerr",
       "traceback": [
        "\u001b[0;31m---------------------------------------------------------------------------\u001b[0m\n\u001b[0;31mNameError\u001b[0m                                 Traceback (most recent call last)",
        "\u001b[0;32m<ipython-input-27-507c294fddf4>\u001b[0m in \u001b[0;36m<module>\u001b[0;34m()\u001b[0m\n\u001b[0;32m----> 1\u001b[0;31m \u001b[0mress\u001b[0m \u001b[0;34m=\u001b[0m \u001b[0mnp\u001b[0m\u001b[0;34m.\u001b[0m\u001b[0mround\u001b[0m\u001b[0;34m(\u001b[0m\u001b[0mnp\u001b[0m\u001b[0;34m.\u001b[0m\u001b[0marray\u001b[0m\u001b[0;34m(\u001b[0m\u001b[0;34m[\u001b[0m\u001b[0mres\u001b[0m\u001b[0;34m[\u001b[0m\u001b[0;36m0\u001b[0m\u001b[0;34m]\u001b[0m\u001b[0;34m.\u001b[0m\u001b[0mx\u001b[0m\u001b[0;34m,\u001b[0m \u001b[0mres\u001b[0m\u001b[0;34m[\u001b[0m\u001b[0;36m1\u001b[0m\u001b[0;34m]\u001b[0m\u001b[0;34m.\u001b[0m\u001b[0mx\u001b[0m\u001b[0;34m,\u001b[0m \u001b[0mres\u001b[0m\u001b[0;34m[\u001b[0m\u001b[0;36m2\u001b[0m\u001b[0;34m]\u001b[0m\u001b[0;34m.\u001b[0m\u001b[0mx\u001b[0m\u001b[0;34m,\u001b[0m \u001b[0mres\u001b[0m\u001b[0;34m[\u001b[0m\u001b[0;36m3\u001b[0m\u001b[0;34m]\u001b[0m\u001b[0;34m.\u001b[0m\u001b[0mx\u001b[0m\u001b[0;34m]\u001b[0m\u001b[0;34m)\u001b[0m\u001b[0;34m,\u001b[0m \u001b[0;36m3\u001b[0m\u001b[0;34m)\u001b[0m\u001b[0;34m\u001b[0m\u001b[0m\n\u001b[0m\u001b[1;32m      2\u001b[0m \u001b[0mress\u001b[0m\u001b[0;34m.\u001b[0m\u001b[0mT\u001b[0m\u001b[0;34m,\u001b[0m \u001b[0mbhvr_arr\u001b[0m\u001b[0;34m,\u001b[0m \u001b[0mress\u001b[0m\u001b[0;34m.\u001b[0m\u001b[0msum\u001b[0m\u001b[0;34m(\u001b[0m\u001b[0maxis\u001b[0m\u001b[0;34m=\u001b[0m\u001b[0;36m0\u001b[0m\u001b[0;34m)\u001b[0m\u001b[0;34m\u001b[0m\u001b[0m\n",
        "\u001b[0;31mNameError\u001b[0m: name 'res' is not defined"
       ]
      }
     ],
     "prompt_number": 27
    },
    {
     "cell_type": "code",
     "collapsed": false,
     "input": [
      "res.x, bhvr_arr[:,0]"
     ],
     "language": "python",
     "metadata": {},
     "outputs": [
      {
       "ename": "NameError",
       "evalue": "name 'res' is not defined",
       "output_type": "pyerr",
       "traceback": [
        "\u001b[0;31m---------------------------------------------------------------------------\u001b[0m\n\u001b[0;31mNameError\u001b[0m                                 Traceback (most recent call last)",
        "\u001b[0;32m<ipython-input-28-95f8e84b4319>\u001b[0m in \u001b[0;36m<module>\u001b[0;34m()\u001b[0m\n\u001b[0;32m----> 1\u001b[0;31m \u001b[0mres\u001b[0m\u001b[0;34m.\u001b[0m\u001b[0mx\u001b[0m\u001b[0;34m,\u001b[0m \u001b[0mbhvr_arr\u001b[0m\u001b[0;34m[\u001b[0m\u001b[0;34m:\u001b[0m\u001b[0;34m,\u001b[0m\u001b[0;36m0\u001b[0m\u001b[0;34m]\u001b[0m\u001b[0;34m\u001b[0m\u001b[0m\n\u001b[0m",
        "\u001b[0;31mNameError\u001b[0m: name 'res' is not defined"
       ]
      }
     ],
     "prompt_number": 28
    },
    {
     "cell_type": "code",
     "collapsed": false,
     "input": [
      "# nbr_arr[0] - (((res.x).T) * counts_arr).sum(), (((res.x).T) * counts_arr).sum()"
     ],
     "language": "python",
     "metadata": {},
     "outputs": [],
     "prompt_number": 360
    },
    {
     "cell_type": "code",
     "collapsed": false,
     "input": [
      "def funcc(x):\n",
      "    return (nbr_arr[0] - ((x.T * counts_arr)).sum())"
     ],
     "language": "python",
     "metadata": {},
     "outputs": [],
     "prompt_number": 30
    },
    {
     "cell_type": "code",
     "collapsed": false,
     "input": [
      "#DOESN\"T WORK\n",
      "# from scipy.optimize import root\n",
      "# p0 = bhvr_arr[:,0]\n",
      "# sol = root(funcc, p0, jac=False, method='lm')"
     ],
     "language": "python",
     "metadata": {},
     "outputs": [],
     "prompt_number": 359
    },
    {
     "cell_type": "code",
     "collapsed": false,
     "input": [
      "# np.linalg.lstsq(counts_arr, nbr_arr)\n",
      "# stuff\n",
      "\n",
      "b = np.array([1, 2, 0])#nbr_arr\n",
      "x = np.array([.1, .3, .6])#counts_arr\n",
      "\n",
      "xx = np.linalg.pinv(x*x[np.newaxis].T)\n",
      "bx = b*x[None].T\n",
      "\n",
      "A = bx.dot(xx) #* (bhvr_arr > 0))\n",
      "A\n"
     ],
     "language": "python",
     "metadata": {},
     "outputs": [
      {
       "metadata": {},
       "output_type": "pyout",
       "prompt_number": 521,
       "text": [
        "array([[ 0.03308129,  0.09924386,  0.19848771],\n",
        "       [ 0.09924386,  0.29773157,  0.59546314],\n",
        "       [ 0.19848771,  0.59546314,  1.19092628]])"
       ]
      }
     ],
     "prompt_number": 521
    },
    {
     "cell_type": "code",
     "collapsed": false,
     "input": [
      "b*x[None].T"
     ],
     "language": "python",
     "metadata": {},
     "outputs": [
      {
       "metadata": {},
       "output_type": "pyout",
       "prompt_number": 519,
       "text": [
        "array([[ 0.1,  0.2,  0. ],\n",
        "       [ 0.3,  0.6,  0. ],\n",
        "       [ 0.6,  1.2,  0. ]])"
       ]
      }
     ],
     "prompt_number": 519
    },
    {
     "cell_type": "heading",
     "level": 1,
     "metadata": {},
     "source": [
      "Behaviour Learning - The Finale"
     ]
    },
    {
     "cell_type": "code",
     "collapsed": false,
     "input": [],
     "language": "python",
     "metadata": {},
     "outputs": [],
     "prompt_number": 125
    },
    {
     "cell_type": "code",
     "collapsed": false,
     "input": [
      "def generate_nbr_signals(distance, speed_limit, fast_coeff, amount):\n",
      "    '''\n",
      "    generate set of signals\n",
      "    * distance: In meters, the length of the edge/road\n",
      "    * speed_limit: in km/h\n",
      "    * fast_coeff: how much faster than the speed limit we \n",
      "        want to allow, typically 1.2\n",
      "    * amount: the number of samples to generate\n",
      "    '''\n",
      "    min_time = distance / (fast_coeff * speed_limit / 3.6)\n",
      "    G = stats.gamma(3, loc=min_time, scale=4)\n",
      "    #x = np.linspace(1, 6*amount, 6*amount)\n",
      "    #sqr = signal.square(5 * np.pi * x)\n",
      "    #sig = np.sin(3 * np.pi * x)\n",
      "    #pwm = signal.square(5 * np.pi * x, duty=(sig + 1) / 4)\n",
      "    \n",
      "    sample = stats.foldnorm(1, scale=3)\n",
      "    \n",
      "    A = sample.rvs(250)#np.where(pwm == 1)[0]\n",
      "    \n",
      "    # Noise\n",
      "    n1 = stats.foldnorm(1, scale=2)\n",
      "    n2 = stats.foldnorm(1, loc=5, scale=1)\n",
      "    noise = n1.rvs(size=A.size) + n2.rvs(size=A.size)\n",
      "    \n",
      "    #lag = G.rvs(size=A.size)\n",
      "    E = A + 5.4 * noise\n",
      "    D = A + 2.1 * noise\n",
      "    C = A + 1.8 * noise\n",
      "    B = A + 1.3 * noise\n",
      "    A = A + noise\n",
      "    u = B.mean() - A.mean()\n",
      "    s = (A.std() + B.std()) / 2 \n",
      "    a = A#[(A >= u - 2 * s) & (A <= u + 2 * s)]\n",
      "    b = B#[(B >= u - 2 * s) & (B <= u + 2 * s)]\n",
      "    c = C\n",
      "    d = D\n",
      "    \n",
      "    # minslice\n",
      "    q = min(a.size, b.size, c.size, amount)\n",
      "    return G, min_time, A[:q], B[:q], C[:q], D[:q], E[:q]"
     ],
     "language": "python",
     "metadata": {},
     "outputs": [],
     "prompt_number": 229
    },
    {
     "cell_type": "code",
     "collapsed": false,
     "input": [
      "def extract_probs(outlet, probs):\n",
      "    probs = np.reshape(probs, [4,4])\n",
      "    outlet_probs = probs[:,outlet]\n",
      "    correct_probs = [v for k,v in enumerate(outlet_probs) if k != outlet]\n",
      "    \n",
      "    return np.array(correct_probs)"
     ],
     "language": "python",
     "metadata": {},
     "outputs": [],
     "prompt_number": 304
    },
    {
     "cell_type": "code",
     "collapsed": false,
     "input": [
      "def remove_infeasible_events(signal_est, inlet_signal, edge_params, dt):\n",
      "    # E = (shape * scale) + location\n",
      "    buffering = 1.1\n",
      "    shape, loc, scale, z = edge_params\n",
      "    expectation = (shape * scale + loc) / buffering\n",
      "\n",
      "    # number indicies to remove depends on sampling time\n",
      "    index = np.round(expectation / dt, 0)\n",
      "\n",
      "    len_out = signal_est.shape[0]\n",
      "    len_in = inlet_signal.shape[0]\n",
      "\n",
      "    end_index = np.min([len_out + expectation, len_in])\n",
      "\n",
      "    inlet_signal[:index] = 0\n",
      "    inlet_signal[end_index:] = 0\n",
      "\n",
      "    return inlet_signal"
     ],
     "language": "python",
     "metadata": {},
     "outputs": [],
     "prompt_number": 363
    },
    {
     "cell_type": "code",
     "collapsed": false,
     "input": [
      "def combine_sig_ests(signals):\n",
      "    total_est = np.zeros(len(signals[0]))\n",
      "    for signal in signals:\n",
      "        total_est += signal[0]\n",
      "    \n",
      "    return np.array(total_est)"
     ],
     "language": "python",
     "metadata": {},
     "outputs": [],
     "prompt_number": 322
    },
    {
     "cell_type": "code",
     "collapsed": false,
     "input": [
      "def transform_sigs(signal, prob):\n",
      "    trans_sigs = []\n",
      "    for i, p in enumerate(prob):\n",
      "        trans_sigs.append(signal[i] * p)\n",
      "    return np.array(trans_sigs)"
     ],
     "language": "python",
     "metadata": {},
     "outputs": [],
     "prompt_number": 331
    },
    {
     "cell_type": "code",
     "collapsed": false,
     "input": [
      "# def outside_bounds(p):\n",
      "#     out_bounds = sum([True for pr in p if pr > 1.0 or pr < 0.0]) > 0\n",
      "#     return out_bounds"
     ],
     "language": "python",
     "metadata": {},
     "outputs": [],
     "prompt_number": 223
    },
    {
     "cell_type": "code",
     "collapsed": false,
     "input": [
      "# def calc_residual(p, y, x):\n",
      "#     l = np.linspace(0, y.shape[0], y.shape[0])\n",
      "#     kernel = x[0] #stats.gamma(shape, loc=loc, scale=scale).pdf(l)\n",
      "#     kern_params = stats.gamma.fit(kernel)\n",
      "    \n",
      "#     t_sigs = transform_sigs(x[1:], p)\n",
      "#     c_sigs = combine_sig_ests(t_sigs)[0]\n",
      "    \n",
      "#     y_feas = remove_infeasible_events(c_sigs, y, kern_params, 1)\n",
      "    \n",
      "#     n = l.shape[0]\n",
      "#     err = y_feas - np.convolve(kernel, c_sigs, mode='full')[:n]\n",
      "    \n",
      "#     return err"
     ],
     "language": "python",
     "metadata": {},
     "outputs": [],
     "prompt_number": 224
    },
    {
     "cell_type": "code",
     "collapsed": false,
     "input": [
      "# def residuals(p, y, x):\n",
      "#     '''\n",
      "#     calculates the error between real inlet signal and estimated\n",
      "\n",
      "#     :p    -> optmization params. gamma parameters and gain (a)\n",
      "#     :y    -> real signal\n",
      "#     :x    -> estimated outlet signal from neighbor\n",
      "#     '''\n",
      "\n",
      "# #     shape, loc, scale, gain = p\n",
      "#     if outside_bounds(p):\n",
      "#         return 1e6\n",
      "#     else:\n",
      "#         return calc_residual(p, y, x)"
     ],
     "language": "python",
     "metadata": {},
     "outputs": [],
     "prompt_number": 225
    },
    {
     "cell_type": "code",
     "collapsed": false,
     "input": [
      "def clean_bhvrs(bhvr_arr):\n",
      "    return bhvr_arr[bhvr_arr>0]\n",
      "\n",
      "def build_bounds(clean_bhvrs):\n",
      "    bounds = [(0,1)] * clean_bhvrs.shape[0]\n",
      "    return bounds\n",
      "\n",
      "def cons(bhvr_arr):\n",
      "#     funs = [lambda x: np.sum(x[i]) - 1 for i in range(x.shape[0])]\n",
      "#     funs += [lambda x: x[index0s] for index0s in x == 0]\n",
      "    funs = []\n",
      "    cnt = 0\n",
      "    \n",
      "    for b_row in bhvr_arr:\n",
      "        p = np.array(b_row[b_row > 0])\n",
      "        funs += [lambda x: np.sum(x[cnt:cnt + p.shape[0]]) - 1]\n",
      "        cnt += p.shape[0]\n",
      "    \n",
      "    return [{'type': 'eq', 'fun': f} for f in funs]        "
     ],
     "language": "python",
     "metadata": {},
     "outputs": [],
     "prompt_number": 710
    },
    {
     "cell_type": "code",
     "collapsed": false,
     "input": [
      "# x = counts_arr\n",
      "# #p = bhvr_arr\n",
      "# y_true = nbr_counts[0]\n",
      "# y_est = ((bhvr_arr[:,0].T * counts_arr)).sum()\n",
      "# p0 = bhvr_arr[:,0]\n",
      "# y_est\n",
      "\n",
      "gamm, min_time, A, B, C, D, E = generate_nbr_signals(1000, 60, 1.2, 400)\n",
      "\n",
      "# from the time delay least squares solution\n",
      "shape, loc, scale, gain = (2.0,5.0,2.0,0.9)\n",
      "\n",
      "edges = ((2, 0, (shape, loc, scale, gain)),(3, 1, (shape, loc, scale, gain)),\n",
      "         (0, 2, (shape, loc, scale, gain)),(1, 3, (shape, loc, scale, gain)))\n",
      "\n",
      "bins = np.linspace(0, 100, 100)\n",
      "hA = np.histogram(A, bins)\n",
      "hB = np.histogram(B, bins)[0]\n",
      "hC = np.histogram(C, bins)[0]\n",
      "hD = np.histogram(D, bins)[0]\n",
      "hE = np.histogram(E, bins)[0]\n",
      "\n",
      "# nbr_signals = ([hA, hB, hC], [hB, hC, hA], [hC, hA, hB],[hC, hB, hA],)\n",
      "nbr_in_sigs = np.array([hE, hE*1.05, hE*0.9, hE*1.15])\n",
      "in_sigs = np.array([hA, hB, hC, hD])\n",
      "\n",
      "bhvr_past = ((0, 1, 0.1), (0, 2, 0.6), (0, 3, 0.3), (3, 2, 1), \n",
      "             (1, 0, 1), (2, 1, 0.2), (2, 0, 0.7), (2, 3, 0.1))\n",
      "bhvr_arr = np.zeros([4,4])\n",
      "for item in bhvr_past:\n",
      "    bhvr_arr[item[0],item[1]] = item[2]\n",
      "\n",
      "# plt.plot(hA)\n",
      "plt.plot(hB)\n",
      "plt.plot(hC)\n",
      "plt.plot(hD)\n",
      "plt.plot(hE)\n",
      "\n",
      "print np.sort(A)\n",
      "# lsq = [leastsq(residuals, p0_i, args=(y_real, x)) for p0_i in p0]\n",
      "# lsq\n",
      "\n",
      "# # lsq = [leastsqbound(residuals, p0_i, args=(y_real, x), \n",
      "# #                     bounds=((0,1),(0,1),(0,1),)) for p0_i in p0]"
     ],
     "language": "python",
     "metadata": {},
     "outputs": [
      {
       "output_type": "stream",
       "stream": "stdout",
       "text": [
        "[  5.77402994   6.59611079   6.67992527   6.68465393   6.77546667\n",
        "   6.83504815   7.12411763   7.18263639   7.20744699   7.32080825\n",
        "   7.39658855   7.45101633   7.5770429    7.57854614   7.64223026\n",
        "   7.7269728    7.77644957   7.90954955   8.00246361   8.013598\n",
        "   8.04758555   8.14139893   8.17864835   8.26228048   8.29319703\n",
        "   8.3508599    8.36214348   8.42202708   8.47908057   8.49638845\n",
        "   8.58840189   8.64836955   8.68241827   8.92101195   8.98609907\n",
        "   9.03327104   9.0342039    9.05274168   9.06262862   9.08501302\n",
        "   9.12605235   9.15126937   9.21218246   9.27133481   9.28002945\n",
        "   9.31292065   9.33741483   9.34666088   9.36249427   9.36568899\n",
        "   9.37068009   9.43025906   9.43283956   9.48164022   9.59604996\n",
        "   9.62061245   9.62793152   9.64100295   9.6518972    9.66534495\n",
        "   9.67242116   9.73158964   9.74475414   9.75697885   9.78379934\n",
        "   9.80763276   9.85759071   9.95463778   9.99830287  10.01899562\n",
        "  10.03384698  10.03815012  10.04308137  10.12177849  10.12224725\n",
        "  10.15068456  10.16891952  10.1759738   10.18363446  10.20293279\n",
        "  10.20641814  10.21455124  10.23937743  10.37453336  10.46089436\n",
        "  10.47416288  10.4939913   10.54128411  10.5683333   10.61024784\n",
        "  10.63854176  10.64233562  10.67262571  10.68215894  10.71207381\n",
        "  10.72245036  10.81921053  10.86222839  10.95472367  10.97651694\n",
        "  10.97788614  11.03161472  11.04836945  11.07155041  11.10550258\n",
        "  11.14763662  11.19456804  11.21905814  11.28632512  11.29693727\n",
        "  11.29761596  11.32742924  11.33054857  11.33897251  11.39701775\n",
        "  11.41215356  11.41782066  11.43395377  11.44837271  11.55774157\n",
        "  11.56204766  11.63558409  11.65929172  11.78545539  11.79405272\n",
        "  11.80305888  11.80348642  11.81213197  11.85064114  11.85517061\n",
        "  11.91530694  11.926889    11.92709692  12.0533308   12.05773878\n",
        "  12.080386    12.0951041   12.09858209  12.20784349  12.30165548\n",
        "  12.37803337  12.37867254  12.38312263  12.38721524  12.40297319\n",
        "  12.43930729  12.48265941  12.53879776  12.54529318  12.55676118\n",
        "  12.58248159  12.69550037  12.72704862  12.72970334  12.73763826\n",
        "  12.79021087  12.8097729   12.82523705  12.83690884  12.86428098\n",
        "  12.96354504  12.97585418  12.98847212  12.99688854  12.99725006\n",
        "  13.00551743  13.04828521  13.07608929  13.17926377  13.19224347\n",
        "  13.20642043  13.23820003  13.36117976  13.45698644  13.45745169\n",
        "  13.4612981   13.46457145  13.49500589  13.50229622  13.5341594\n",
        "  13.54996772  13.56523207  13.57305801  13.59448257  13.60355785\n",
        "  13.65035996  13.76317434  13.81690913  13.82078549  13.86897019\n",
        "  13.9011689   14.03908454  14.05777586  14.0760359   14.09059882\n",
        "  14.12441375  14.27151373  14.30270643  14.32890905  14.45291943\n",
        "  14.45482609  14.5726354   14.57321284  14.5745157   14.62138215\n",
        "  14.62752218  14.77294514  14.79626046  14.80423496  14.81445401\n",
        "  14.84469093  14.91884381  14.92148861  14.98192738  14.98834118\n",
        "  15.08816043  15.20059914  15.44284481  15.54449084  15.57239878\n",
        "  15.64225675  15.78944538  15.79929486  15.84119671  15.85850878\n",
        "  15.86253941  15.86282598  15.9865482   16.01298566  16.20581903\n",
        "  16.2309266   16.28920171  16.52352103  16.52786787  16.69203035\n",
        "  16.79080818  16.96705342  17.0238835   17.27072218  17.36275136\n",
        "  17.45584131  17.80250988  17.88484117  17.90396259  18.09357367\n",
        "  18.26336961  18.31509184  18.48397745  18.90885287  19.10293342]\n"
       ]
      },
      {
       "metadata": {},
       "output_type": "display_data",
       "png": "[encoded data removed]",
       "text": [
        "<matplotlib.figure.Figure at 0x107073d90>"
       ]
      }
     ],
     "prompt_number": 731
    },
    {
     "cell_type": "code",
     "collapsed": false,
     "input": [
      "clean_bs = clean_bhvrs(bhvr_arr)\n",
      "bounds = build_bounds(clean_bs)\n",
      "constraints = cons(bhvr_arr)\n",
      "allowable_paths = (bhvr_arr>0) * 1.0\n",
      "\n",
      "args = (nbr_in_sigs, in_sigs, edges, allowable_paths)\n",
      "opt = optimize.minimize(obj_fun, clean_bs, args=args,\n",
      "                         bounds=bounds, \n",
      "#                          constraints=constraints,\n",
      "                        method='SLSQP',\n",
      "                        options={'disp': True})\n",
      "opt\n",
      "# np.reshape(opt.x, [4,4]), bhvr_arr"
     ],
     "language": "python",
     "metadata": {},
     "outputs": [
      {
       "output_type": "stream",
       "stream": "stdout",
       "text": [
        "Optimization terminated successfully.    (Exit mode 0)\n",
        "            Current function value: 9511.81\n",
        "            Iterations: 1\n",
        "            Function evaluations: 10\n",
        "            Gradient evaluations: 1\n"
       ]
      },
      {
       "metadata": {},
       "output_type": "pyout",
       "prompt_number": 714,
       "text": [
        "  status: 0\n",
        " success: True\n",
        "    njev: 1\n",
        "    nfev: 10\n",
        "     fun: 9511.8100000000013\n",
        "       x: array([ 0.1,  0.6,  0.3,  1. ,  0.7,  0.2,  0.1,  1. ])\n",
        " message: 'Optimization terminated successfully.'\n",
        "     jac: array([ 0.,  0.,  0.,  0.,  0.,  0.,  0.,  0.,  0.])\n",
        "     nit: 1"
       ]
      }
     ],
     "prompt_number": 714
    },
    {
     "cell_type": "code",
     "collapsed": false,
     "input": [
      "def obj_fun(x, nbr_in_sigs, in_sigs, edges, allow_paths):\n",
      "    def sum_sqd_err(p, nbr_sig, in_sigs, params):\n",
      "        l = np.linspace(0, nbr_sig.shape[0], nbr_sig.shape[0])\n",
      "        n = l.shape[0]\n",
      "        sh, loc, sc, a = params\n",
      "        \n",
      "        kernel = stats.gamma(sh, loc=loc, scale=sc).pdf(l)\n",
      "        trans_sigs = transform_sigs(in_sigs, p)\n",
      "        out_sig = combine_sig_ests(trans_sigs)\n",
      "        y_feas = remove_infeasible_events(out_sig, nbr_sig, params, 1)\n",
      "        \n",
      "        conv = np.convolve(kernel, out_sig, mode='full')[:n]\n",
      "        err = np.sum((y_feas - conv)**2)\n",
      "         return err\n",
      "    \n",
      "    tot_errs = []\n",
      "#     y = allow_paths\n",
      "    allow_paths[allow_paths>0] = x\n",
      "#     x = allow_paths#np.reshape(x, [4,4])\n",
      "#     allow_paths = y\n",
      "    \n",
      "    for edge in edges:\n",
      "        node_id, nbr_node_id, params = edge\n",
      "        out_probs = allow_paths[:,node_id]#extract_probs(nbr_node_id, x)\n",
      "        \n",
      "        err = sum_sqd_err(out_probs, nbr_in_sigs[nbr_node_id], \n",
      "                          in_sigs, params)\n",
      "        tot_errs.append(err)\n",
      "    \n",
      "    total_error = np.sum(tot_errs)\n",
      "    return total_error"
     ],
     "language": "python",
     "metadata": {},
     "outputs": [],
     "prompt_number": 707
    },
    {
     "cell_type": "code",
     "collapsed": false,
     "input": [
      "# ooo = optimize.brute(obj_fun, (slice(0, 100, 100),), args=(nbr_in_sigs, in_sigs, edges))00\n",
      "\n",
      "# ooo = optimize.anneal(obj_fun, bhvr_arr, args=(nbr_in_sigs, in_sigs, edges), lower=0.0, upper=1.0)"
     ],
     "language": "python",
     "metadata": {},
     "outputs": [],
     "prompt_number": 392
    },
    {
     "cell_type": "code",
     "collapsed": false,
     "input": [
      "tt = (bhvr_arr > 0)*1.0\n",
      "print tt\n",
      "tt[tt>0] = clean_bs\n",
      "print tt"
     ],
     "language": "python",
     "metadata": {},
     "outputs": [
      {
       "output_type": "stream",
       "stream": "stdout",
       "text": [
        "[[ 0.  1.  1.  1.]\n",
        " [ 1.  0.  0.  0.]\n",
        " [ 1.  1.  0.  1.]\n",
        " [ 0.  0.  1.  0.]]\n",
        "[[ 0.   0.1  0.6  0.3]\n",
        " [ 1.   0.   0.   0. ]\n",
        " [ 0.7  0.2  0.   0.1]\n",
        " [ 0.   0.   1.   0. ]]\n"
       ]
      }
     ],
     "prompt_number": 491
    },
    {
     "cell_type": "code",
     "collapsed": false,
     "input": [
      "b = np.array([b for b in bhvr_arr.flat])][\n",
      "b, np.reshape(b, [4,4])"
     ],
     "language": "python",
     "metadata": {},
     "outputs": [
      {
       "metadata": {},
       "output_type": "pyout",
       "prompt_number": 354,
       "text": [
        "(array([ 0. ,  0.1,  0.6,  0.3,  1. ,  0. ,  0. ,  0. ,  0.7,  0.2,  0. ,\n",
        "        0.1,  0. ,  0. ,  1. ,  0. ]),\n",
        " array([[ 0. ,  0.1,  0.6,  0.3],\n",
        "       [ 1. ,  0. ,  0. ,  0. ],\n",
        "       [ 0.7,  0.2,  0. ,  0.1],\n",
        "       [ 0. ,  0. ,  1. ,  0. ]]))"
       ]
      }
     ],
     "prompt_number": 354
    },
    {
     "cell_type": "code",
     "collapsed": false,
     "input": [
      "np.sum((b + b)**2)"
     ],
     "language": "python",
     "metadata": {},
     "outputs": [
      {
       "metadata": {},
       "output_type": "pyout",
       "prompt_number": 358,
       "text": [
        "12.0"
       ]
      }
     ],
     "prompt_number": 358
    },
    {
     "cell_type": "code",
     "collapsed": false,
     "input": [
      "(bhvr_arr>0)*1"
     ],
     "language": "python",
     "metadata": {},
     "outputs": [
      {
       "metadata": {},
       "output_type": "pyout",
       "prompt_number": 398,
       "text": [
        "array([[0, 1, 1, 1],\n",
        "       [1, 0, 0, 0],\n",
        "       [1, 1, 0, 1],\n",
        "       [0, 0, 1, 0]])"
       ]
      }
     ],
     "prompt_number": 398
    },
    {
     "cell_type": "code",
     "collapsed": false,
     "input": [],
     "language": "python",
     "metadata": {},
     "outputs": [],
     "prompt_number": 720
    },
    {
     "cell_type": "code",
     "collapsed": false,
     "input": [],
     "language": "python",
     "metadata": {},
     "outputs": [],
     "prompt_number": 720
    },
    {
     "cell_type": "code",
     "collapsed": false,
     "input": [],
     "language": "python",
     "metadata": {},
     "outputs": [],
     "prompt_number": 724
    },
    {
     "cell_type": "code",
     "collapsed": false,
     "input": [],
     "language": "python",
     "metadata": {},
     "outputs": [
      {
       "metadata": {},
       "output_type": "pyout",
       "prompt_number": 724,
       "text": [
        "183740"
       ]
      }
     ],
     "prompt_number": 724
    },
    {
     "cell_type": "code",
     "collapsed": false,
     "input": [
      "d = nbr_in_sigs\n",
      "c = in_sigs\n",
      "\n",
      "l = np.linspace(0, 99, 99)\n",
      "t = [stats.gamma(p[0], loc=p[1], scale=[2]).pdf(l) for a, b, p in edges]\n",
      "\n",
      "D = np.fft.fft(d)\n",
      "C = np.fft.fft(c)\n",
      "T = np.fft.fft(t)\n",
      "\n",
      "CT = C.T*T.T"
     ],
     "language": "python",
     "metadata": {},
     "outputs": [],
     "prompt_number": 648
    },
    {
     "cell_type": "code",
     "collapsed": false,
     "input": [
      "CT2 = np.array([ct*ct[None].T for ct in CT])\n",
      "CTCT = np.array([np.linalg.pinv(ct2) for ct2 in CT2])\n",
      "DCT = D.T*CT#np.array([D[i]*ct[None].T for i, ct in enumerate(CT)])\n",
      "# CT.T.dot(CT).shape\n",
      "DCT.shape, CTCT.shape"
     ],
     "language": "python",
     "metadata": {},
     "outputs": [
      {
       "metadata": {},
       "output_type": "pyout",
       "prompt_number": 677,
       "text": [
        "((99, 4), (99, 4, 4))"
       ]
      }
     ],
     "prompt_number": 677
    },
    {
     "cell_type": "code",
     "collapsed": false,
     "input": [
      "DCTCTCT = np.array([DCT[i]*ctct for i, ctct in enumerate(CTCT)])"
     ],
     "language": "python",
     "metadata": {},
     "outputs": [],
     "prompt_number": 688
    },
    {
     "cell_type": "code",
     "collapsed": false,
     "input": [
      "(DCT[0]*CTCT[0]).shape"
     ],
     "language": "python",
     "metadata": {},
     "outputs": [
      {
       "metadata": {},
       "output_type": "pyout",
       "prompt_number": 682,
       "text": [
        "(4, 4)"
       ]
      }
     ],
     "prompt_number": 682
    },
    {
     "cell_type": "code",
     "collapsed": false,
     "input": [
      "win = np.abs(np.fft.ifft(DCTCTCT))"
     ],
     "language": "python",
     "metadata": {},
     "outputs": [],
     "prompt_number": 692
    },
    {
     "cell_type": "code",
     "collapsed": false,
     "input": [
      "(win.sum(0)/100)[0]"
     ],
     "language": "python",
     "metadata": {},
     "outputs": [
      {
       "metadata": {},
       "output_type": "pyout",
       "prompt_number": 703,
       "text": [
        "array([ 0.52707325,  0.20951607,  0.15634377,  0.20951607])"
       ]
      }
     ],
     "prompt_number": 703
    },
    {
     "cell_type": "code",
     "collapsed": false,
     "input": [],
     "language": "python",
     "metadata": {},
     "outputs": [],
     "prompt_number": 659
    },
    {
     "cell_type": "code",
     "collapsed": false,
     "input": [],
     "language": "python",
     "metadata": {},
     "outputs": [],
     "prompt_number": 659
    },
    {
     "cell_type": "code",
     "collapsed": false,
     "input": [
      "CT*CT.T"
     ],
     "language": "python",
     "metadata": {},
     "outputs": [
      {
       "metadata": {},
       "output_type": "pyout",
       "prompt_number": 597,
       "text": [
        "(4, 4)"
       ]
      }
     ],
     "prompt_number": 597
    },
    {
     "cell_type": "code",
     "collapsed": false,
     "input": [
      "x = np.array([ct*ct[None].T for ct in CT])"
     ],
     "language": "python",
     "metadata": {},
     "outputs": [],
     "prompt_number": 618
    },
    {
     "cell_type": "code",
     "collapsed": false,
     "input": [
      "x.shape"
     ],
     "language": "python",
     "metadata": {},
     "outputs": [
      {
       "metadata": {},
       "output_type": "pyout",
       "prompt_number": 619,
       "text": [
        "(4, 99, 99)"
       ]
      }
     ],
     "prompt_number": 619
    },
    {
     "cell_type": "code",
     "collapsed": false,
     "input": [
      "DCT.shape"
     ],
     "language": "python",
     "metadata": {},
     "outputs": [
      {
       "metadata": {},
       "output_type": "pyout",
       "prompt_number": 627,
       "text": [
        "(4, 99, 99)"
       ]
      }
     ],
     "prompt_number": 627
    },
    {
     "cell_type": "code",
     "collapsed": false,
     "input": [],
     "language": "python",
     "metadata": {},
     "outputs": [],
     "prompt_number": 650
    },
    {
     "cell_type": "code",
     "collapsed": false,
     "input": [
      "CT.shape, D.T.shape"
     ],
     "language": "python",
     "metadata": {},
     "outputs": [
      {
       "metadata": {},
       "output_type": "pyout",
       "prompt_number": 668,
       "text": [
        "((99, 4), (99, 4))"
       ]
      }
     ],
     "prompt_number": 668
    },
    {
     "cell_type": "code",
     "collapsed": false,
     "input": [
      "(D.T*CT).shape"
     ],
     "language": "python",
     "metadata": {},
     "outputs": [
      {
       "metadata": {},
       "output_type": "pyout",
       "prompt_number": 671,
       "text": [
        "(99, 4)"
       ]
      }
     ],
     "prompt_number": 671
    },
    {
     "cell_type": "code",
     "collapsed": false,
     "input": [],
     "language": "python",
     "metadata": {},
     "outputs": [],
     "prompt_number": 794
    },
    {
     "cell_type": "code",
     "collapsed": false,
     "input": [],
     "language": "python",
     "metadata": {},
     "outputs": [],
     "prompt_number": 794
    },
    {
     "cell_type": "code",
     "collapsed": false,
     "input": [],
     "language": "python",
     "metadata": {},
     "outputs": [],
     "prompt_number": 794
    },
    {
     "cell_type": "code",
     "collapsed": false,
     "input": [],
     "language": "python",
     "metadata": {},
     "outputs": [],
     "prompt_number": 794
    },
    {
     "cell_type": "code",
     "collapsed": false,
     "input": [],
     "language": "python",
     "metadata": {},
     "outputs": []
    }
   ],
   "metadata": {}
  }
 ]
}