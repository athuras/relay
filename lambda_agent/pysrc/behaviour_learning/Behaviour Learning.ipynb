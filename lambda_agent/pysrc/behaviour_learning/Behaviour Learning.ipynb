{
 "metadata": {
  "name": ""
 },
 "nbformat": 3,
 "nbformat_minor": 0,
 "worksheets": [
  {
   "cells": [
    {
     "cell_type": "code",
     "collapsed": false,
     "input": [
      "import itertools\n",
      "from collections import Counter\n",
      "import numpy as np"
     ],
     "language": "python",
     "metadata": {},
     "outputs": [],
     "prompt_number": 25
    },
    {
     "cell_type": "code",
     "collapsed": false,
     "input": [
      "bhvr_past = ((0, 1, 0.1), (0, 2, 0.6), (0, 3, 0.3), (3, 2, 1), (1, 0, 1), (2, 1, 0.2), (2, 0, 0.7), (2, 3, 0.1))"
     ],
     "language": "python",
     "metadata": {},
     "outputs": [],
     "prompt_number": 330
    },
    {
     "cell_type": "code",
     "collapsed": false,
     "input": [
      "secondary_nodes = [k for k, v in Counter(item[0] for item in bhvr_past).iteritems() if v == 1]"
     ],
     "language": "python",
     "metadata": {},
     "outputs": [],
     "prompt_number": 331
    },
    {
     "cell_type": "code",
     "collapsed": false,
     "input": [
      "bhvr_second = [item for item in bhvr_past if item[0] in secondary_nodes]\n",
      "bhvr_second"
     ],
     "language": "python",
     "metadata": {},
     "outputs": [
      {
       "metadata": {},
       "output_type": "pyout",
       "prompt_number": 332,
       "text": [
        "[(3, 2, 1), (1, 0, 1)]"
       ]
      }
     ],
     "prompt_number": 332
    },
    {
     "cell_type": "code",
     "collapsed": false,
     "input": [
      "# stuff\n",
      "bhvr_arr = np.zeros([4,4])\n",
      "for item in bhvr_past:\n",
      "    bhvr_arr[item[0],item[1]] = item[2]\n",
      "\n",
      "(bhvr_arr > 0) * 1.0"
     ],
     "language": "python",
     "metadata": {},
     "outputs": [
      {
       "metadata": {},
       "output_type": "pyout",
       "prompt_number": 412,
       "text": [
        "array([[ 0.,  1.,  1.,  1.],\n",
        "       [ 1.,  0.,  0.,  0.],\n",
        "       [ 1.,  1.,  0.,  1.],\n",
        "       [ 0.,  0.,  1.,  0.]])"
       ]
      }
     ],
     "prompt_number": 412
    },
    {
     "cell_type": "code",
     "collapsed": false,
     "input": [
      "counts = ((0, 10.0), (1, 2.0), (2, 9.0), (3, 4.0))\n",
      "counts_arr = np.array([item[1] for item in counts])\n",
      "#counts_arr = np.array(counts_arr)"
     ],
     "language": "python",
     "metadata": {},
     "outputs": [],
     "prompt_number": 334
    },
    {
     "cell_type": "code",
     "collapsed": false,
     "input": [
      "est_outs_arr = (bhvr_arr.T * counts_arr).T\n",
      "est_outs_arr"
     ],
     "language": "python",
     "metadata": {},
     "outputs": [
      {
       "metadata": {},
       "output_type": "pyout",
       "prompt_number": 335,
       "text": [
        "array([[ 0. ,  1. ,  6. ,  3. ],\n",
        "       [ 2. ,  0. ,  0. ,  0. ],\n",
        "       [ 6.3,  1.8,  0. ,  0.9],\n",
        "       [ 0. ,  0. ,  4. ,  0. ]])"
       ]
      }
     ],
     "prompt_number": 335
    },
    {
     "cell_type": "code",
     "collapsed": false,
     "input": [
      "nbr_counts = ((0, 8.0), (1, 4.0), (2, 9.0), (3, 4.0))\n",
      "nbr_arr = [item[1] for item in nbr_counts]\n",
      "nbr_arr = np.array(nbr_arr)\n",
      "nbr_arr"
     ],
     "language": "python",
     "metadata": {},
     "outputs": [
      {
       "metadata": {},
       "output_type": "pyout",
       "prompt_number": 336,
       "text": [
        "array([ 8.,  4.,  9.,  4.])"
       ]
      }
     ],
     "prompt_number": 336
    },
    {
     "cell_type": "code",
     "collapsed": false,
     "input": [
      "prediction_err = est_outs_arr.sum(axis=0) - nbr_arr\n",
      "prediction_err"
     ],
     "language": "python",
     "metadata": {},
     "outputs": [
      {
       "metadata": {},
       "output_type": "pyout",
       "prompt_number": 337,
       "text": [
        "array([ 0.3, -1.2,  1. , -0.1])"
       ]
      }
     ],
     "prompt_number": 337
    },
    {
     "cell_type": "code",
     "collapsed": false,
     "input": [
      "def remove_secondary_effects(bhvr_arr, counts, nbr_counts):\n",
      "    # removes counts from \"secondary\" (one inlet-outlet) nodes in neighbor counts\n",
      "    new_nbr_counts = np.copy(nbr_counts)\n",
      "    \n",
      "    scnd_in, scnd_out = np.where(bhvr_arr==1.0)\n",
      "    \n",
      "    for i in range(len(scnd_in)):\n",
      "        new_nbr_counts[scnd_out[i]] = nbr_counts[scnd_out[i]] - counts[scnd_in[i]]\n",
      "    \n",
      "    return new_nbr_counts"
     ],
     "language": "python",
     "metadata": {},
     "outputs": [],
     "prompt_number": 380
    },
    {
     "cell_type": "code",
     "collapsed": false,
     "input": [
      "def update_probs(bhvr_arr, counts, nbr_counts):\n",
      "    alpha = 0.2\n",
      "    Q_new = construct_new_bhvr(bhvr_arr, counts, nbr_counts) \n",
      "    Q = (1-alpha) * bhvr_arr + alpha \\\n",
      "        * Q_new\n",
      "    return Q"
     ],
     "language": "python",
     "metadata": {},
     "outputs": [],
     "prompt_number": 395
    },
    {
     "cell_type": "code",
     "collapsed": false,
     "input": [
      "def allowable_paths(bhvr_arr):\n",
      "    return (bhvr_arr > 0.0)"
     ],
     "language": "python",
     "metadata": {},
     "outputs": [],
     "prompt_number": 382
    },
    {
     "cell_type": "code",
     "collapsed": false,
     "input": [
      "def construct_new_bhvr(bhvr_arr, counts, nbr_counts):\n",
      "    new_bhvr_arr = [nbr_counts / i for i in counts] * allowable_paths(bhvr_arr)\n",
      "    new_bhvr_arr[new_bhvr_arr >= 1] = 1\n",
      "    return new_bhvr_arr"
     ],
     "language": "python",
     "metadata": {},
     "outputs": [],
     "prompt_number": 383
    },
    {
     "cell_type": "code",
     "collapsed": false,
     "input": [
      "#allowable_paths(bhvr_arr)*1\n",
      "#np.vstack([nbr_arr / i for i in counts_arr])\n",
      "new_nbr_arr = remove_secondary_effects(bhvr_arr, counts_arr, nbr_arr)\n",
      "new_nbr_arr"
     ],
     "language": "python",
     "metadata": {},
     "outputs": [
      {
       "metadata": {},
       "output_type": "pyout",
       "prompt_number": 386,
       "text": [
        "array([ 6.,  4.,  5.,  4.])"
       ]
      }
     ],
     "prompt_number": 386
    },
    {
     "cell_type": "code",
     "collapsed": false,
     "input": [
      "construct_new_bhvr(bhvr_arr, counts_arr, new_nbr_arr)"
     ],
     "language": "python",
     "metadata": {},
     "outputs": [
      {
       "metadata": {},
       "output_type": "pyout",
       "prompt_number": 387,
       "text": [
        "array([[ 0.        ,  0.4       ,  0.5       ,  0.4       ],\n",
        "       [ 1.        ,  0.        ,  0.        ,  0.        ],\n",
        "       [ 0.66666667,  0.44444444,  0.        ,  0.44444444],\n",
        "       [ 0.        ,  0.        ,  1.        ,  0.        ]])"
       ]
      }
     ],
     "prompt_number": 387
    },
    {
     "cell_type": "code",
     "collapsed": false,
     "input": [
      "update_probs(bhvr_arr, counts_arr, new_nbr_arr)"
     ],
     "language": "python",
     "metadata": {},
     "outputs": [
      {
       "metadata": {},
       "output_type": "pyout",
       "prompt_number": 388,
       "text": [
        "array([[ 0.        ,  0.16      ,  0.58      ,  0.32      ],\n",
        "       [ 1.        ,  0.        ,  0.        ,  0.        ],\n",
        "       [ 0.69333333,  0.24888889,  0.        ,  0.16888889],\n",
        "       [ 0.        ,  0.        ,  1.        ,  0.        ]])"
       ]
      }
     ],
     "prompt_number": 388
    },
    {
     "cell_type": "code",
     "collapsed": false,
     "input": [
      "bhvr_arr"
     ],
     "language": "python",
     "metadata": {},
     "outputs": [
      {
       "metadata": {},
       "output_type": "pyout",
       "prompt_number": 389,
       "text": [
        "array([[ 0. ,  0.1,  0.6,  0.3],\n",
        "       [ 1. ,  0. ,  0. ,  0. ],\n",
        "       [ 0.7,  0.2,  0. ,  0.1],\n",
        "       [ 0. ,  0. ,  1. ,  0. ]])"
       ]
      }
     ],
     "prompt_number": 389
    },
    {
     "cell_type": "code",
     "collapsed": false,
     "input": [
      "bhvr_arr[:,0]"
     ],
     "language": "python",
     "metadata": {},
     "outputs": [
      {
       "metadata": {},
       "output_type": "pyout",
       "prompt_number": 408,
       "text": [
        "array([ 0. ,  1. ,  0.7,  0. ])"
       ]
      }
     ],
     "prompt_number": 408
    },
    {
     "cell_type": "code",
     "collapsed": false,
     "input": [
      "####### USING OPTIMIZATION TECHNIQUES #######\n",
      "  \n",
      "x = counts_arr\n",
      "#p = bhvr_arr\n",
      "y_true = nbr_counts[0]\n",
      "y_est = ((bhvr_arr[:,0].T * counts_arr)).sum()\n",
      "p0 = bhvr_arr[:,0]\n",
      "y_est"
     ],
     "language": "python",
     "metadata": {},
     "outputs": [
      {
       "metadata": {},
       "output_type": "pyout",
       "prompt_number": 647,
       "text": [
        "8.3000000000000007"
       ]
      }
     ],
     "prompt_number": 647
    },
    {
     "cell_type": "code",
     "collapsed": false,
     "input": [
      "def residuals(p, y, x):\n",
      "    err = y - ((p.T * x)).sum()\n",
      "    return err"
     ],
     "language": "python",
     "metadata": {},
     "outputs": [],
     "prompt_number": 648
    },
    {
     "cell_type": "code",
     "collapsed": false,
     "input": [
      "#def peval(x, p):\n",
      "  #  return (p.T * x).T"
     ],
     "language": "python",
     "metadata": {},
     "outputs": [],
     "prompt_number": 649
    },
    {
     "cell_type": "code",
     "collapsed": false,
     "input": [
      "from scipy.optimize import leastsq, minimize\n",
      "plsq = leastsq(residuals, p0, args=(y_est, x))\n",
      "plsq[0]"
     ],
     "language": "python",
     "metadata": {},
     "outputs": [
      {
       "ename": "TypeError",
       "evalue": "Improper input: N=4 must not exceed M=1",
       "output_type": "pyerr",
       "traceback": [
        "\u001b[0;31m---------------------------------------------------------------------------\u001b[0m\n\u001b[0;31mTypeError\u001b[0m                                 Traceback (most recent call last)",
        "\u001b[0;32m<ipython-input-650-718484071b94>\u001b[0m in \u001b[0;36m<module>\u001b[0;34m()\u001b[0m\n\u001b[1;32m      1\u001b[0m \u001b[0;32mfrom\u001b[0m \u001b[0mscipy\u001b[0m\u001b[0;34m.\u001b[0m\u001b[0moptimize\u001b[0m \u001b[0;32mimport\u001b[0m \u001b[0mleastsq\u001b[0m\u001b[0;34m,\u001b[0m \u001b[0mminimize\u001b[0m\u001b[0;34m\u001b[0m\u001b[0m\n\u001b[0;32m----> 2\u001b[0;31m \u001b[0mplsq\u001b[0m \u001b[0;34m=\u001b[0m \u001b[0mleastsq\u001b[0m\u001b[0;34m(\u001b[0m\u001b[0mresiduals\u001b[0m\u001b[0;34m,\u001b[0m \u001b[0mp0\u001b[0m\u001b[0;34m,\u001b[0m \u001b[0margs\u001b[0m\u001b[0;34m=\u001b[0m\u001b[0;34m(\u001b[0m\u001b[0my_est\u001b[0m\u001b[0;34m,\u001b[0m \u001b[0mx\u001b[0m\u001b[0;34m)\u001b[0m\u001b[0;34m)\u001b[0m\u001b[0;34m\u001b[0m\u001b[0m\n\u001b[0m\u001b[1;32m      3\u001b[0m \u001b[0mplsq\u001b[0m\u001b[0;34m[\u001b[0m\u001b[0;36m0\u001b[0m\u001b[0;34m]\u001b[0m\u001b[0;34m\u001b[0m\u001b[0m\n",
        "\u001b[0;32m/usr/local/lib/python2.7/site-packages/scipy/optimize/minpack.pyc\u001b[0m in \u001b[0;36mleastsq\u001b[0;34m(func, x0, args, Dfun, full_output, col_deriv, ftol, xtol, gtol, maxfev, epsfcn, factor, diag)\u001b[0m\n\u001b[1;32m    355\u001b[0m     \u001b[0mm\u001b[0m \u001b[0;34m=\u001b[0m \u001b[0mshape\u001b[0m\u001b[0;34m[\u001b[0m\u001b[0;36m0\u001b[0m\u001b[0;34m]\u001b[0m\u001b[0;34m\u001b[0m\u001b[0m\n\u001b[1;32m    356\u001b[0m     \u001b[0;32mif\u001b[0m \u001b[0mn\u001b[0m \u001b[0;34m>\u001b[0m \u001b[0mm\u001b[0m\u001b[0;34m:\u001b[0m\u001b[0;34m\u001b[0m\u001b[0m\n\u001b[0;32m--> 357\u001b[0;31m         \u001b[0;32mraise\u001b[0m \u001b[0mTypeError\u001b[0m\u001b[0;34m(\u001b[0m\u001b[0;34m'Improper input: N=%s must not exceed M=%s'\u001b[0m \u001b[0;34m%\u001b[0m \u001b[0;34m(\u001b[0m\u001b[0mn\u001b[0m\u001b[0;34m,\u001b[0m\u001b[0mm\u001b[0m\u001b[0;34m)\u001b[0m\u001b[0;34m)\u001b[0m\u001b[0;34m\u001b[0m\u001b[0m\n\u001b[0m\u001b[1;32m    358\u001b[0m     \u001b[0;32mif\u001b[0m \u001b[0mepsfcn\u001b[0m \u001b[0;32mis\u001b[0m \u001b[0mNone\u001b[0m\u001b[0;34m:\u001b[0m\u001b[0;34m\u001b[0m\u001b[0m\n\u001b[1;32m    359\u001b[0m         \u001b[0mepsfcn\u001b[0m \u001b[0;34m=\u001b[0m \u001b[0msqrt\u001b[0m\u001b[0;34m(\u001b[0m\u001b[0mfinfo\u001b[0m\u001b[0;34m(\u001b[0m\u001b[0mdtype\u001b[0m\u001b[0;34m)\u001b[0m\u001b[0;34m.\u001b[0m\u001b[0meps\u001b[0m\u001b[0;34m)\u001b[0m\u001b[0;34m\u001b[0m\u001b[0m\n",
        "\u001b[0;31mTypeError\u001b[0m: Improper input: N=4 must not exceed M=1"
       ]
      }
     ],
     "prompt_number": 650
    },
    {
     "cell_type": "code",
     "collapsed": false,
     "input": [
      "((bhvr_arr > 0).T * counts_arr).T"
     ],
     "language": "python",
     "metadata": {},
     "outputs": [
      {
       "metadata": {},
       "output_type": "pyout",
       "prompt_number": 651,
       "text": [
        "array([[  0.,  10.,  10.,  10.],\n",
        "       [  2.,   0.,   0.,   0.],\n",
        "       [  9.,   9.,   0.,   9.],\n",
        "       [  0.,   0.,   4.,   0.]])"
       ]
      }
     ],
     "prompt_number": 651
    },
    {
     "cell_type": "code",
     "collapsed": false,
     "input": [
      "(bhvr_arr.T * counts_arr)"
     ],
     "language": "python",
     "metadata": {},
     "outputs": [
      {
       "metadata": {},
       "output_type": "pyout",
       "prompt_number": 652,
       "text": [
        "array([[ 0. ,  2. ,  6.3,  0. ],\n",
        "       [ 1. ,  0. ,  1.8,  0. ],\n",
        "       [ 6. ,  0. ,  0. ,  4. ],\n",
        "       [ 3. ,  0. ,  0.9,  0. ]])"
       ]
      }
     ],
     "prompt_number": 652
    },
    {
     "cell_type": "code",
     "collapsed": false,
     "input": [
      "def func(x, d, c):\n",
      "    return (d - ((x.T * c)).sum())**2"
     ],
     "language": "python",
     "metadata": {},
     "outputs": [],
     "prompt_number": 654
    },
    {
     "cell_type": "code",
     "collapsed": false,
     "input": [
      "def func_deriv(x, d, c):\n",
      "    return 2*(d - ((x.T * c)).sum())*-((x > 0).T * c)"
     ],
     "language": "python",
     "metadata": {},
     "outputs": [],
     "prompt_number": 655
    },
    {
     "cell_type": "code",
     "collapsed": false,
     "input": [
      "# def create_cons(b):\n",
      "#     for p in b:\n",
      "#         ineq = {'fun': lambda x: np.array(x[0]),\n",
      "#                 'jac': lambda x: np.array(\n",
      "# cons = []\n",
      "# for i in range(4):\n",
      "#     zrs = np.zeros(4)\n",
      "#     zrs[i] = 1.0\n",
      "#     con = {'type': 'ineq',\n",
      "#              'fun': lambda x: np.array([x[i]]),\n",
      "#              'jac': lambda x: np.array(zrs)}\n",
      "#     con2 = {'type': 'ineq',\n",
      "#              'fun': lambda x: np.array([1 - x[i]]),\n",
      "#              'jac': lambda x: np.array(zrs)}\n",
      "#     cons.append(con), cons.append(con2)\n",
      "\n",
      "cons = ({'type': 'ineq',\n",
      "         'fun': lambda x: np.array([x[0]]),\n",
      "         'jac': lambda x: np.array([1.0, 0.0, 0.0, 0.0])},\n",
      "        {'type': 'ineq',\n",
      "         'fun': lambda x: np.array([x[1]]),\n",
      "         'jac': lambda x: np.array([0.0, 1.0, 0.0, 0.0])},\n",
      "        {'type': 'ineq',\n",
      "         'fun': lambda x: np.array([x[2]]),\n",
      "         'jac': lambda x: np.array([0.0, 0.0, 1.0, 0.0])},\n",
      "        {'type': 'ineq',\n",
      "         'fun': lambda x: np.array([x[3]]),\n",
      "         'jac': lambda x: np.array([0.0, 0.0, 0.0, 1.0])},\n",
      "        {'type': 'ineq',\n",
      "         'fun': lambda x: np.array([1 - x[0]]),\n",
      "         'jac': lambda x: np.array([1.0, 0.0, 0.0, 0.0])},\n",
      "        {'type': 'ineq',\n",
      "         'fun': lambda x: np.array([1 - x[1]]),\n",
      "         'jac': lambda x: np.array([0.0, 1.0, 0.0, 0.0])},\n",
      "        {'type': 'ineq',\n",
      "         'fun': lambda x: np.array([1 - x[2]]),\n",
      "         'jac': lambda x: np.array([0.0, 0.0, 1.0, 0.0])},\n",
      "        {'type': 'ineq',\n",
      "         'fun': lambda x: np.array([1 - x[3]]),\n",
      "         'jac': lambda x: np.array([0.0, 0.0, 0.0, 1.0])\n",
      "         })"
     ],
     "language": "python",
     "metadata": {},
     "outputs": [],
     "prompt_number": 656
    },
    {
     "cell_type": "code",
     "collapsed": false,
     "input": [
      "# constraints don't seem to be doing anything -> answer is outside these constraints\n",
      "bhvr_past2 = ((0, 1, 0.6), (0, 2, 0.1), (0, 3, 0.3), (3, 2, 1), (1, 0, 1), (2, 1, 0.2), (2, 0, 0.7), (2, 3, 0.1))\n",
      "bhvr_arr2 = np.zeros([4,4])\n",
      "for item in bhvr_past2:\n",
      "    bhvr_arr2[item[0],item[1]] = item[2]\n",
      "\n",
      "for i in range(len(nbr_arr)):\n",
      "    res[i] = minimize(func, bhvr_arr2[:,i], args=(nbr_arr[i], counts_arr,), jac=func_deriv,\n",
      "                   constraints=cons, method='SLSQP', options={'disp': True})\n",
      "# res = minimize(func, bhvr_arr[:,0], args=(nbr_arr[0], counts_arr,), jac=func_deriv, \n",
      "#                method='SLSQP', options={'disp': True})"
     ],
     "language": "python",
     "metadata": {},
     "outputs": [
      {
       "output_type": "stream",
       "stream": "stdout",
       "text": [
        "Optimization terminated successfully.    (Exit mode 0)\n",
        "            Current function value: 1.26217744835e-29\n",
        "            Iterations: 2\n",
        "            Function evaluations: 3\n",
        "            Gradient evaluations: 2\n",
        "Iteration limit exceeded    (Exit mode 9)"
       ]
      },
      {
       "output_type": "stream",
       "stream": "stdout",
       "text": [
        "\n",
        "            Current function value: 1.05662899537e-12\n",
        "            Iterations: 101\n",
        "            Function evaluations: 1082\n",
        "            Gradient evaluations: 101\n",
        "Iteration limit exceeded    (Exit mode 9)"
       ]
      },
      {
       "output_type": "stream",
       "stream": "stdout",
       "text": [
        "\n",
        "            Current function value: 4.52188006529e-07\n",
        "            Iterations: 101\n",
        "            Function evaluations: 1010\n",
        "            Gradient evaluations: 100\n",
        "Optimization terminated successfully.    (Exit mode 0)\n",
        "            Current function value: 0.0\n",
        "            Iterations: 2\n",
        "            Function evaluations: 5\n",
        "            Gradient evaluations: 2\n"
       ]
      }
     ],
     "prompt_number": 706
    },
    {
     "cell_type": "code",
     "collapsed": false,
     "input": [
      "ress = np.round(np.array([res[0].x, res[1].x, res[2].x, res[3].x]), 3)\n",
      "ress.T, bhvr_arr, ress.sum(axis=0)"
     ],
     "language": "python",
     "metadata": {},
     "outputs": [
      {
       "metadata": {},
       "output_type": "pyout",
       "prompt_number": 707,
       "text": [
        "(array([[ 0.   ,  0.158,  0.212,  0.306],\n",
        "       [ 1.   ,  1.211, -0.   ,  0.   ],\n",
        "       [ 0.667,  0.   ,  0.   ,  0.105],\n",
        "       [ 0.   ,  0.   ,  1.72 ,  0.   ]]),\n",
        " array([[ 0. ,  0.1,  0.6,  0.3],\n",
        "       [ 1. ,  0. ,  0. ,  0. ],\n",
        "       [ 0.7,  0.2,  0. ,  0.1],\n",
        "       [ 0. ,  0. ,  1. ,  0. ]]),\n",
        " array([ 0.676,  2.211,  0.772,  1.72 ]))"
       ]
      }
     ],
     "prompt_number": 707
    },
    {
     "cell_type": "code",
     "collapsed": false,
     "input": [
      "res.x, bhvr_arr[:,0]"
     ],
     "language": "python",
     "metadata": {},
     "outputs": [
      {
       "metadata": {},
       "output_type": "pyout",
       "prompt_number": 633,
       "text": [
        "(array([  5.33961629e-21,   1.00000000e+00,   6.99999714e-01,\n",
        "         0.00000000e+00]),\n",
        " array([ 0. ,  1. ,  0.7,  0. ]))"
       ]
      }
     ],
     "prompt_number": 633
    },
    {
     "cell_type": "code",
     "collapsed": false,
     "input": [
      "nbr_arr[0] - (((res.x).T) * counts_arr).sum(), (((res.x).T) * counts_arr).sum()"
     ],
     "language": "python",
     "metadata": {},
     "outputs": [
      {
       "metadata": {},
       "output_type": "pyout",
       "prompt_number": 634,
       "text": [
        "(-0.29999742507934535, 8.2999974250793453)"
       ]
      }
     ],
     "prompt_number": 634
    },
    {
     "cell_type": "code",
     "collapsed": false,
     "input": [
      "def funcc(x):\n",
      "    return (nbr_arr[0] - ((x.T * counts_arr)).sum())"
     ],
     "language": "python",
     "metadata": {},
     "outputs": [],
     "prompt_number": 545
    },
    {
     "cell_type": "code",
     "collapsed": false,
     "input": [
      "#DOESN\"T WORK\n",
      "from scipy.optimize import root\n",
      "p0 = bhvr_arr[:,0]\n",
      "sol = root(funcc, p0, jac=False, method='lm')"
     ],
     "language": "python",
     "metadata": {},
     "outputs": [
      {
       "ename": "TypeError",
       "evalue": "Improper input: N=4 must not exceed M=1",
       "output_type": "pyerr",
       "traceback": [
        "\u001b[0;31m---------------------------------------------------------------------------\u001b[0m\n\u001b[0;31mTypeError\u001b[0m                                 Traceback (most recent call last)",
        "\u001b[0;32m<ipython-input-547-3e184ee16ab1>\u001b[0m in \u001b[0;36m<module>\u001b[0;34m()\u001b[0m\n\u001b[1;32m      2\u001b[0m \u001b[0;32mfrom\u001b[0m \u001b[0mscipy\u001b[0m\u001b[0;34m.\u001b[0m\u001b[0moptimize\u001b[0m \u001b[0;32mimport\u001b[0m \u001b[0mroot\u001b[0m\u001b[0;34m\u001b[0m\u001b[0m\n\u001b[1;32m      3\u001b[0m \u001b[0mp0\u001b[0m \u001b[0;34m=\u001b[0m \u001b[0mbhvr_arr\u001b[0m\u001b[0;34m[\u001b[0m\u001b[0;34m:\u001b[0m\u001b[0;34m,\u001b[0m\u001b[0;36m0\u001b[0m\u001b[0;34m]\u001b[0m\u001b[0;34m\u001b[0m\u001b[0m\n\u001b[0;32m----> 4\u001b[0;31m \u001b[0msol\u001b[0m \u001b[0;34m=\u001b[0m \u001b[0mroot\u001b[0m\u001b[0;34m(\u001b[0m\u001b[0mfuncc\u001b[0m\u001b[0;34m,\u001b[0m \u001b[0mp0\u001b[0m\u001b[0;34m,\u001b[0m \u001b[0mjac\u001b[0m\u001b[0;34m=\u001b[0m\u001b[0mFalse\u001b[0m\u001b[0;34m,\u001b[0m \u001b[0mmethod\u001b[0m\u001b[0;34m=\u001b[0m\u001b[0;34m'lm'\u001b[0m\u001b[0;34m)\u001b[0m\u001b[0;34m\u001b[0m\u001b[0m\n\u001b[0m",
        "\u001b[0;32m/usr/local/lib/python2.7/site-packages/scipy/optimize/_root.pyc\u001b[0m in \u001b[0;36mroot\u001b[0;34m(fun, x0, args, method, jac, tol, callback, options)\u001b[0m\n\u001b[1;32m    171\u001b[0m         \u001b[0msol\u001b[0m \u001b[0;34m=\u001b[0m \u001b[0m_root_hybr\u001b[0m\u001b[0;34m(\u001b[0m\u001b[0mfun\u001b[0m\u001b[0;34m,\u001b[0m \u001b[0mx0\u001b[0m\u001b[0;34m,\u001b[0m \u001b[0margs\u001b[0m\u001b[0;34m=\u001b[0m\u001b[0margs\u001b[0m\u001b[0;34m,\u001b[0m \u001b[0mjac\u001b[0m\u001b[0;34m=\u001b[0m\u001b[0mjac\u001b[0m\u001b[0;34m,\u001b[0m \u001b[0;34m**\u001b[0m\u001b[0moptions\u001b[0m\u001b[0;34m)\u001b[0m\u001b[0;34m\u001b[0m\u001b[0m\n\u001b[1;32m    172\u001b[0m     \u001b[0;32melif\u001b[0m \u001b[0mmeth\u001b[0m \u001b[0;34m==\u001b[0m \u001b[0;34m'lm'\u001b[0m\u001b[0;34m:\u001b[0m\u001b[0;34m\u001b[0m\u001b[0m\n\u001b[0;32m--> 173\u001b[0;31m         \u001b[0msol\u001b[0m \u001b[0;34m=\u001b[0m \u001b[0m_root_leastsq\u001b[0m\u001b[0;34m(\u001b[0m\u001b[0mfun\u001b[0m\u001b[0;34m,\u001b[0m \u001b[0mx0\u001b[0m\u001b[0;34m,\u001b[0m \u001b[0margs\u001b[0m\u001b[0;34m=\u001b[0m\u001b[0margs\u001b[0m\u001b[0;34m,\u001b[0m \u001b[0mjac\u001b[0m\u001b[0;34m=\u001b[0m\u001b[0mjac\u001b[0m\u001b[0;34m,\u001b[0m \u001b[0;34m**\u001b[0m\u001b[0moptions\u001b[0m\u001b[0;34m)\u001b[0m\u001b[0;34m\u001b[0m\u001b[0m\n\u001b[0m\u001b[1;32m    174\u001b[0m     elif meth in ('broyden1', 'broyden2', 'anderson', 'linearmixing',\n\u001b[1;32m    175\u001b[0m                   'diagbroyden', 'excitingmixing', 'krylov'):\n",
        "\u001b[0;32m/usr/local/lib/python2.7/site-packages/scipy/optimize/_root.pyc\u001b[0m in \u001b[0;36m_root_leastsq\u001b[0;34m(func, x0, args, jac, col_deriv, xtol, ftol, gtol, maxiter, eps, factor, diag, **unknown_options)\u001b[0m\n\u001b[1;32m    195\u001b[0m                                        \u001b[0mftol\u001b[0m\u001b[0;34m=\u001b[0m\u001b[0mftol\u001b[0m\u001b[0;34m,\u001b[0m \u001b[0mgtol\u001b[0m\u001b[0;34m=\u001b[0m\u001b[0mgtol\u001b[0m\u001b[0;34m,\u001b[0m\u001b[0;34m\u001b[0m\u001b[0m\n\u001b[1;32m    196\u001b[0m                                        \u001b[0mmaxfev\u001b[0m\u001b[0;34m=\u001b[0m\u001b[0mmaxiter\u001b[0m\u001b[0;34m,\u001b[0m \u001b[0mepsfcn\u001b[0m\u001b[0;34m=\u001b[0m\u001b[0meps\u001b[0m\u001b[0;34m,\u001b[0m\u001b[0;34m\u001b[0m\u001b[0m\n\u001b[0;32m--> 197\u001b[0;31m                                        factor=factor, diag=diag)\n\u001b[0m\u001b[1;32m    198\u001b[0m     sol = Result(x=x, message=msg, status=ier,\n\u001b[1;32m    199\u001b[0m                  \u001b[0msuccess\u001b[0m\u001b[0;34m=\u001b[0m\u001b[0mier\u001b[0m \u001b[0;32min\u001b[0m \u001b[0;34m(\u001b[0m\u001b[0;36m1\u001b[0m\u001b[0;34m,\u001b[0m \u001b[0;36m2\u001b[0m\u001b[0;34m,\u001b[0m \u001b[0;36m3\u001b[0m\u001b[0;34m,\u001b[0m \u001b[0;36m4\u001b[0m\u001b[0;34m)\u001b[0m\u001b[0;34m,\u001b[0m \u001b[0mcov_x\u001b[0m\u001b[0;34m=\u001b[0m\u001b[0mcov_x\u001b[0m\u001b[0;34m,\u001b[0m\u001b[0;34m\u001b[0m\u001b[0m\n",
        "\u001b[0;32m/usr/local/lib/python2.7/site-packages/scipy/optimize/minpack.pyc\u001b[0m in \u001b[0;36mleastsq\u001b[0;34m(func, x0, args, Dfun, full_output, col_deriv, ftol, xtol, gtol, maxfev, epsfcn, factor, diag)\u001b[0m\n\u001b[1;32m    355\u001b[0m     \u001b[0mm\u001b[0m \u001b[0;34m=\u001b[0m \u001b[0mshape\u001b[0m\u001b[0;34m[\u001b[0m\u001b[0;36m0\u001b[0m\u001b[0;34m]\u001b[0m\u001b[0;34m\u001b[0m\u001b[0m\n\u001b[1;32m    356\u001b[0m     \u001b[0;32mif\u001b[0m \u001b[0mn\u001b[0m \u001b[0;34m>\u001b[0m \u001b[0mm\u001b[0m\u001b[0;34m:\u001b[0m\u001b[0;34m\u001b[0m\u001b[0m\n\u001b[0;32m--> 357\u001b[0;31m         \u001b[0;32mraise\u001b[0m \u001b[0mTypeError\u001b[0m\u001b[0;34m(\u001b[0m\u001b[0;34m'Improper input: N=%s must not exceed M=%s'\u001b[0m \u001b[0;34m%\u001b[0m \u001b[0;34m(\u001b[0m\u001b[0mn\u001b[0m\u001b[0;34m,\u001b[0m\u001b[0mm\u001b[0m\u001b[0;34m)\u001b[0m\u001b[0;34m)\u001b[0m\u001b[0;34m\u001b[0m\u001b[0m\n\u001b[0m\u001b[1;32m    358\u001b[0m     \u001b[0;32mif\u001b[0m \u001b[0mepsfcn\u001b[0m \u001b[0;32mis\u001b[0m \u001b[0mNone\u001b[0m\u001b[0;34m:\u001b[0m\u001b[0;34m\u001b[0m\u001b[0m\n\u001b[1;32m    359\u001b[0m         \u001b[0mepsfcn\u001b[0m \u001b[0;34m=\u001b[0m \u001b[0msqrt\u001b[0m\u001b[0;34m(\u001b[0m\u001b[0mfinfo\u001b[0m\u001b[0;34m(\u001b[0m\u001b[0mdtype\u001b[0m\u001b[0;34m)\u001b[0m\u001b[0;34m.\u001b[0m\u001b[0meps\u001b[0m\u001b[0;34m)\u001b[0m\u001b[0;34m\u001b[0m\u001b[0m\n",
        "\u001b[0;31mTypeError\u001b[0m: Improper input: N=4 must not exceed M=1"
       ]
      }
     ],
     "prompt_number": 547
    },
    {
     "cell_type": "code",
     "collapsed": false,
     "input": [
      "# np.linalg.lstsq(counts_arr, nbr_arr)\n",
      "# stuff\n",
      "\n",
      "b = np.array([1, 2, 0])#nbr_arr\n",
      "x = np.array([1, 1, 1])#counts_arr\n",
      "A = b * x[np.newaxis].T * np.linalg.pinv(x*x[np.newaxis].T) #* (bhvr_arr > 0))"
     ],
     "language": "python",
     "metadata": {},
     "outputs": [],
     "prompt_number": 725
    },
    {
     "cell_type": "code",
     "collapsed": false,
     "input": [
      "A"
     ],
     "language": "python",
     "metadata": {},
     "outputs": [
      {
       "metadata": {},
       "output_type": "pyout",
       "prompt_number": 726,
       "text": [
        "array([[ 0.11111111,  0.22222222,  0.        ],\n",
        "       [ 0.11111111,  0.22222222,  0.        ],\n",
        "       [ 0.11111111,  0.22222222,  0.        ]])"
       ]
      }
     ],
     "prompt_number": 726
    },
    {
     "cell_type": "code",
     "collapsed": false,
     "input": [
      "A*x"
     ],
     "language": "python",
     "metadata": {},
     "outputs": [
      {
       "metadata": {},
       "output_type": "pyout",
       "prompt_number": 727,
       "text": [
        "array([[ 0.11111111,  0.22222222,  0.        ],\n",
        "       [ 0.11111111,  0.22222222,  0.        ],\n",
        "       [ 0.11111111,  0.22222222,  0.        ]])"
       ]
      }
     ],
     "prompt_number": 727
    },
    {
     "cell_type": "code",
     "collapsed": false,
     "input": [
      "np.linalg.pinv(x*x[np.newaxis].T), x*x[np.newaxis].T"
     ],
     "language": "python",
     "metadata": {},
     "outputs": [
      {
       "metadata": {},
       "output_type": "pyout",
       "prompt_number": 724,
       "text": [
        "(array([[ 0.25,  0.25],\n",
        "       [ 0.25,  0.25]]),\n",
        " array([[1, 1],\n",
        "       [1, 1]]))"
       ]
      }
     ],
     "prompt_number": 724
    },
    {
     "cell_type": "code",
     "collapsed": false,
     "input": [],
     "language": "python",
     "metadata": {},
     "outputs": []
    }
   ],
   "metadata": {}
  }
 ]
}